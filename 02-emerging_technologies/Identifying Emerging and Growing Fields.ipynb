{
 "cells": [
  {
   "attachments": {},
   "cell_type": "markdown",
   "id": "b35fd33d-a126-4528-bfa9-6fa54f58691d",
   "metadata": {},
   "source": [
    "# Identifying Emerging and Growing Fields: Evaluating Europe's Role in the Global Innovation Landscape\n",
    "\n",
    "### Prerrequisites\n",
    "This notebook has been written for an audience already familiar with TIP. For users completely new to the platform, we recommend to follow the [TIP basic course](https://e-courses.epo.org/course/view.php?id=416) before reading this analysis. \n",
    "### Disclaimer \n",
    "This notebook is published as a showcase of the capabilities of TIP as a data processing environment. It is not intended to derive any statistical conclusion other than the presentation of the retrieved data. The EPO is not expressing any opinion extrapolated from the analysis.\n",
    "\n",
    "## Introduction\n",
    "\n",
    "In the face of increasing global competition, the **European Commission** has acknowledged the importance of *emerging sectors* to drive innovation and secure its economic future. While there are investments being made, these are often too limited or fragmented to keep pace with global leaders such as the **US**, **Japan**, **South Korea**, and **China**. *Emerging sectors* defined as fields characterised by their novelty, rapid development, and transformative potential are essential for addressing challenges like **climate change**, **digital transformation**, and advancements in **healthcare**.\n",
    "\n",
    "In light of this it is important to carefully assess areas where Member States might be trailing behind other innovation leaders. Identifying emerging fields of technology can be challenging, as these areas are not always immediately apparent. Once they are recognised, it becomes quite essential to evaluate Europe's position in these fields and consider whether the current level of investment is sufficient to sustain or enhance global competitiveness. This preliminary analysis aims to provide initial insights into how TIP (Technology and Innovation Platform) can be utilised to investigate whether Europe is dedicating adequate resources to these emerging areas and where there might be risks of falling behind. By examining patent trends and the geographic distribution of applicants within these technologies, the objective is to identify potential gaps that may require further attention. we aim to uncover areas requiring urgent attention to ensure **Europe’s long-term competitiveness** and leadership in the global innovation landscape, a focus that is highly relevant as highlighted in the report [*The future of European competitiveness: A competitiveness strategy for Europe*](https://commission.europa.eu/document/download/97e481fd-2dc3-412d-be4c-f152a8232961_en?filename=The%20future%20of%20European%20competitiveness%20_%20A%20competitiveness%20strategy%20for%20Europe.pdf).\n",
    "\n",
    "It should be noted that this analysis is deliberately simplified, serving as a starting point to guide a more detailed exploration of Europe’s positioning within the global innovation landscape. This analysis was conducted in February 2025, and the results discussed reflect the data available at that time. The process can be repeated, but it is important to consider that results may vary over time."
   ]
  },
  {
   "cell_type": "code",
   "execution_count": 1,
   "id": "bafac1d1-cb6e-49e8-acdc-d1aec07ed2e3",
   "metadata": {},
   "outputs": [],
   "source": [
    "from epo.tipdata.patstat import PatstatClient\n",
    "from epo.tipdata.patstat.database.models import (\n",
    "    TLS201_APPLN,\n",
    "    TLS231_INPADOC_LEGAL_EVENT,\n",
    "    TLS803_LEGAL_EVENT_CODE,\n",
    "    TLS224_APPLN_CPC,\n",
    "    TLS206_PERSON,\n",
    "    TLS207_PERS_APPLN,\n",
    "    TLS225_DOCDB_FAM_CPC,\n",
    "    TLS801_COUNTRY\n",
    "\n",
    ")\n",
    "\n",
    "\n",
    "patstat = PatstatClient(env=\"PROD\")\n",
    "\n",
    "db = patstat.orm()"
   ]
  },
  {
   "cell_type": "code",
   "execution_count": 2,
   "id": "85105760-d5b5-4966-9f55-a71c5981fc99",
   "metadata": {},
   "outputs": [],
   "source": [
    "from sqlalchemy import and_, case, func, select, distinct, or_\n",
    "import requests\n",
    "import zipfile\n",
    "import io\n",
    "import pandas as pd\n",
    "import matplotlib.pyplot as plt\n",
    "import seaborn as sns"
   ]
  },
  {
   "cell_type": "markdown",
   "id": "69984bdb-9161-43f1-b641-80589fd1ea96",
   "metadata": {},
   "source": [
    "## CPC System"
   ]
  },
  {
   "cell_type": "markdown",
   "id": "3613652e-f2a0-4c32-94a5-9375683c4ee8",
   "metadata": {},
   "source": [
    "A critical step in understanding global innovation trends is identifying the technological areas that have experienced the most significant activity in recent years. To achieve this, we analyse *patent classifications* using the **Cooperative Patent Classification (CPC)** system, which provides a detailed taxonomy of technologies. Specifically, we focus on **CPC groups**, a level of classification that aggregates patents based on shared technological characteristics, offering a broader perspective on innovation trends.\n",
    "\n",
    "For this analysis, we examine patents filed over the past decade, starting from **2013**. This time frame reflects the most recent developments and allows us to capture trends in rapidly evolving and *emerging fields*. By counting the occurrences of **CPC groups** associated with *patent families*, we highlight the most frequently represented technological areas. These counts act as a proxy for *innovation intensity*, illustrating which sectors are experiencing the highest levels of research and development globally.\n",
    "\n",
    "The results reveal the dominant areas of technological activity, providing insights into where *innovation efforts* might be concentrated. \n"
   ]
  },
  {
   "cell_type": "code",
   "execution_count": 3,
   "id": "a705d38b-f899-41e3-bf52-a8e562252b37",
   "metadata": {},
   "outputs": [
    {
     "data": {
      "text/html": [
       "<div>\n",
       "<style scoped>\n",
       "    .dataframe tbody tr th:only-of-type {\n",
       "        vertical-align: middle;\n",
       "    }\n",
       "\n",
       "    .dataframe tbody tr th {\n",
       "        vertical-align: top;\n",
       "    }\n",
       "\n",
       "    .dataframe thead th {\n",
       "        text-align: right;\n",
       "    }\n",
       "</style>\n",
       "<table border=\"1\" class=\"dataframe\">\n",
       "  <thead>\n",
       "    <tr style=\"text-align: right;\">\n",
       "      <th></th>\n",
       "      <th>cpc_class_symbol</th>\n",
       "      <th>cpc_count</th>\n",
       "    </tr>\n",
       "  </thead>\n",
       "  <tbody>\n",
       "    <tr>\n",
       "      <th>0</th>\n",
       "      <td>A61P  35/00</td>\n",
       "      <td>953446</td>\n",
       "    </tr>\n",
       "    <tr>\n",
       "      <th>1</th>\n",
       "      <td>Y02E  60/10</td>\n",
       "      <td>890273</td>\n",
       "    </tr>\n",
       "    <tr>\n",
       "      <th>2</th>\n",
       "      <td>A61K  45/06</td>\n",
       "      <td>561923</td>\n",
       "    </tr>\n",
       "    <tr>\n",
       "      <th>3</th>\n",
       "      <td>A61P  43/00</td>\n",
       "      <td>388999</td>\n",
       "    </tr>\n",
       "    <tr>\n",
       "      <th>4</th>\n",
       "      <td>A61K2039/505</td>\n",
       "      <td>379663</td>\n",
       "    </tr>\n",
       "    <tr>\n",
       "      <th>...</th>\n",
       "      <td>...</td>\n",
       "      <td>...</td>\n",
       "    </tr>\n",
       "    <tr>\n",
       "      <th>241695</th>\n",
       "      <td>F04B   1/0478</td>\n",
       "      <td>1</td>\n",
       "    </tr>\n",
       "    <tr>\n",
       "      <th>241696</th>\n",
       "      <td>H01L2224/0546</td>\n",
       "      <td>1</td>\n",
       "    </tr>\n",
       "    <tr>\n",
       "      <th>241697</th>\n",
       "      <td>G03B  41/026</td>\n",
       "      <td>1</td>\n",
       "    </tr>\n",
       "    <tr>\n",
       "      <th>241698</th>\n",
       "      <td>C10M2215/2275</td>\n",
       "      <td>1</td>\n",
       "    </tr>\n",
       "    <tr>\n",
       "      <th>241699</th>\n",
       "      <td>Y10S  73/901</td>\n",
       "      <td>1</td>\n",
       "    </tr>\n",
       "  </tbody>\n",
       "</table>\n",
       "<p>241700 rows × 2 columns</p>\n",
       "</div>"
      ],
      "text/plain": [
       "       cpc_class_symbol  cpc_count\n",
       "0           A61P  35/00     953446\n",
       "1           Y02E  60/10     890273\n",
       "2           A61K  45/06     561923\n",
       "3           A61P  43/00     388999\n",
       "4          A61K2039/505     379663\n",
       "...                 ...        ...\n",
       "241695    F04B   1/0478          1\n",
       "241696    H01L2224/0546          1\n",
       "241697     G03B  41/026          1\n",
       "241698    C10M2215/2275          1\n",
       "241699     Y10S  73/901          1\n",
       "\n",
       "[241700 rows x 2 columns]"
      ]
     },
     "execution_count": 3,
     "metadata": {},
     "output_type": "execute_result"
    }
   ],
   "source": [
    "cpc_group_count_query = (\n",
    "    db.query(\n",
    "        TLS225_DOCDB_FAM_CPC.cpc_class_symbol, \n",
    "        func.count(TLS225_DOCDB_FAM_CPC.docdb_family_id).label(\"cpc_count\")  \n",
    "    )\n",
    "    .join(\n",
    "        TLS201_APPLN, TLS225_DOCDB_FAM_CPC.docdb_family_id == TLS201_APPLN.docdb_family_id  \n",
    "    )\n",
    "    .filter(\n",
    "        TLS201_APPLN.earliest_publn_year >= 2013,\n",
    "        TLS201_APPLN.earliest_publn_year != 9999\n",
    "    )\n",
    "    .group_by(TLS225_DOCDB_FAM_CPC.cpc_class_symbol)  \n",
    "    .order_by(func.count(TLS225_DOCDB_FAM_CPC.docdb_family_id).desc())  \n",
    ")\n",
    "\n",
    "\n",
    "cpc_group_count_df = patstat.df(cpc_group_count_query)\n",
    "\n",
    "\n",
    "cpc_group_count_df\n"
   ]
  },
  {
   "cell_type": "markdown",
   "id": "0c7e7980-9abc-4445-865b-a9d82b647498",
   "metadata": {},
   "source": [
    "After identifying the most frequently occurring **CPC groups** over the past decade, we proceed by selecting the top **50 CPC groups** for further analysis. This selection, while somewhat arbitrary, is guided by the principle of focusing on the most active and influential *technological areas*. By narrowing the scope to the top **50**, we aim to concentrate on the key drivers of *innovation* without diluting the analysis with less impactful fields. In this case, the choice of the number 50 was made arbitrarily to demonstrate how such an analysis might be conducted, but this limit is flexible and can be adjusted based on the specific needs of the study.\n"
   ]
  },
  {
   "cell_type": "code",
   "execution_count": 4,
   "id": "95ba797a-7d33-4f92-8ac8-0bec0d6e518e",
   "metadata": {},
   "outputs": [
    {
     "data": {
      "text/plain": [
       "['A61P  35/00',\n",
       " 'Y02E  60/10',\n",
       " 'A61K  45/06',\n",
       " 'A61P  43/00',\n",
       " 'A61K2039/505',\n",
       " 'Y02P  70/50',\n",
       " 'A61P  29/00',\n",
       " 'Y02T  10/70',\n",
       " 'A23V2002/00',\n",
       " 'G06N   3/08',\n",
       " 'Y02E  10/50',\n",
       " 'Y02A  50/30',\n",
       " 'A61P  25/00',\n",
       " 'C07D 471/04',\n",
       " 'H01M  10/0525',\n",
       " 'Y02D  30/70',\n",
       " 'Y02P  70/10',\n",
       " 'C07K2317/92',\n",
       " 'G06N  20/00',\n",
       " 'C07K2317/76',\n",
       " 'Y02D  10/00',\n",
       " 'G06N   3/045',\n",
       " 'C07D 487/04',\n",
       " 'A61K  38/00',\n",
       " 'A61P  25/28',\n",
       " 'A61K   9/0019',\n",
       " 'C07K2317/24',\n",
       " 'H04W  72/23',\n",
       " 'C07D 401/14',\n",
       " 'H04N  19/176',\n",
       " 'A61P   3/10',\n",
       " 'Y02T  10/7072',\n",
       " 'A61P  11/00',\n",
       " 'A61P   9/00',\n",
       " 'H04L   5/0053',\n",
       " 'Y02T  10/12',\n",
       " 'H01M  10/052',\n",
       " 'A61P  35/02',\n",
       " 'Y02E  60/50',\n",
       " 'F21Y2115/10',\n",
       " 'Y02E  10/72',\n",
       " 'C07K2317/565',\n",
       " 'A61P  31/04',\n",
       " 'A61P  17/00',\n",
       " 'A61K  31/519',\n",
       " 'C07D 401/12',\n",
       " 'B32B  27/08',\n",
       " 'A61P   9/10',\n",
       " 'B32B   7/12',\n",
       " 'H04W   4/80']"
      ]
     },
     "execution_count": 4,
     "metadata": {},
     "output_type": "execute_result"
    }
   ],
   "source": [
    "top_cpc_classes = cpc_group_count_df['cpc_class_symbol'].tolist()\n",
    "\n",
    "top_cpc_classes[:50] "
   ]
  },
  {
   "cell_type": "markdown",
   "id": "92871f59-23bb-4f67-96b4-a7b319e9ed51",
   "metadata": {},
   "source": [
    "With the list of top **CPC groups** identified, the next step is to analyse the *applicants* contributing to these technological areas. The goal is to determine which *entities*, particularly those from the five influential countries (**US**, **JP**, **CN**, **KR**, and **EP contracting states**), are driving *innovation* in these fields. This step focuses on understanding the *geographic* and *organisational* distribution of patent activity in the identified high-priority technologies.\n"
   ]
  },
  {
   "cell_type": "markdown",
   "id": "c30a03c8-9301-4c34-926e-fd16b924e380",
   "metadata": {},
   "source": [
    "## IPFs for identifying **high-value inventions**"
   ]
  },
  {
   "cell_type": "markdown",
   "id": "11ff32c4-3075-4c3b-8da9-e33620b5f333",
   "metadata": {},
   "source": [
    "To ensure the robustness and comparability of our analysis, this study focuses on **International Patent Families (IPFs)**. **IPFs** represent high-value inventions for which patent protection has been sought in more than one jurisdiction. This approach provides a reliable and neutral proxy for inventive activity, allowing us to analyse technological developments with greater accuracy and consistency than would be possible by examining individual patent applications alone.\n",
    "\n",
    "Patents are inherently territorial, with protection granted only within the jurisdiction of the patent office where the application is filed. Consequently, the count of patent applications at a national or regional level does not necessarily equate to the number of unique inventions. Many patent filings may represent minor refinements rather than distinct innovations. **IPFs** address this limitation by grouping patents filed across jurisdictions that relate to the same invention. Each **IPF** is defined as a unique invention for which patents have been filed in at least two countries, thereby ensuring that only inventions deemed commercially significant by their applicants are included.\n",
    "\n",
    "This methodology reduces biases that can arise from variations in patent filing practices across different jurisdictions. By aggregating related patents into families, **IPFs** create a homogeneous population of inventions that can be compared across countries and companies. This global perspective provides a more accurate measure of inventive activity, as it reflects innovations with broader market potential and strategic importance.\n",
    "\n",
    "For this analysis, **IPFs** were identified using two key criteria. The first required that patent families include applications filed in at least two jurisdictions, ensuring that the inventions represented are of international significance. The second focused on families associated with organisations, highlighting commercially oriented inventions that are more likely to influence technological and industrial progress. This definition of an *international patent family* is one of the available options. TIP allows for defining these families in other ways as well. This serves as a starting point, and from here, decisions can be made to include or exclude certain cases based on the specific objectives of the analysis.\n",
    "\n",
    "By concentrating on **IPFs**, this study captures the most valuable and impactful innovations driving technological progress. This approach not only highlights high-priority fields but also provides a comprehensive understanding of how inventive activity is distributed globally, offering meaningful insights into regional and sectoral dynamics.\n"
   ]
  },
  {
   "cell_type": "code",
   "execution_count": null,
   "id": "c28e2651-fbe7-45b3-a0da-a4d9c37f4c15",
   "metadata": {},
   "outputs": [
    {
     "name": "stderr",
     "output_type": "stream",
     "text": [
      "/tmp/ipykernel_418/3238142015.py:48: SAWarning: Coercing Subquery object into a select() for use in IN(); please pass a select() construct explicitly\n",
      "  TLS201_APPLN.docdb_family_id.in_(ipf_families_subquery),\n"
     ]
    }
   ],
   "source": [
    "ipf_families_subquery = (\n",
    "    db.query(TLS201_APPLN.docdb_family_id)\n",
    "    .filter(\n",
    "        # Families belonging to organizations\n",
    "        TLS201_APPLN.docdb_family_id.in_(\n",
    "            db.query(TLS201_APPLN.docdb_family_id)\n",
    "            .join(TLS801_COUNTRY, TLS201_APPLN.appln_auth == TLS801_COUNTRY.ctry_code)\n",
    "            .filter(TLS801_COUNTRY.organisation_flag == 'y')\n",
    "            .distinct()\n",
    "        )\n",
    "        | \n",
    "        # Families with applications from 2+ distinct authorities\n",
    "        TLS201_APPLN.docdb_family_id.in_(\n",
    "            db.query(TLS201_APPLN.docdb_family_id)\n",
    "            .filter(TLS201_APPLN.ipr_type != 'UM')  # Exclude utility models\n",
    "            .group_by(TLS201_APPLN.docdb_family_id)\n",
    "            .having(func.count(func.distinct(TLS201_APPLN.appln_auth)) >= 2)\n",
    "        )\n",
    "    )\n",
    "    .distinct()\n",
    "    .subquery()\n",
    ")\n",
    "\n",
    "\n",
    "\n",
    "\n",
    "ipf_families_query = (\n",
    "    db.query(\n",
    "        TLS201_APPLN.appln_id,               \n",
    "        TLS201_APPLN.docdb_family_id,        \n",
    "        TLS225_DOCDB_FAM_CPC.cpc_class_symbol,  \n",
    "        TLS206_PERSON.person_ctry_code,\n",
    "        TLS206_PERSON.person_id, \n",
    "        TLS206_PERSON.han_name, \n",
    "        TLS206_PERSON.psn_name, \n",
    "        TLS201_APPLN.earliest_publn_year     \n",
    "    )\n",
    "    .join(\n",
    "        TLS207_PERS_APPLN, TLS201_APPLN.appln_id == TLS207_PERS_APPLN.appln_id \n",
    "    )\n",
    "    .join(\n",
    "        TLS206_PERSON, TLS207_PERS_APPLN.person_id == TLS206_PERSON.person_id  \n",
    "    )\n",
    "    .join(\n",
    "        TLS225_DOCDB_FAM_CPC, TLS201_APPLN.docdb_family_id == TLS225_DOCDB_FAM_CPC.docdb_family_id  \n",
    "    )\n",
    "    .filter(\n",
    "        TLS201_APPLN.docdb_family_id.in_(ipf_families_subquery),  \n",
    "        TLS201_APPLN.earliest_publn_year >= 2013,   \n",
    "        TLS201_APPLN.earliest_publn_year <= 2022,   \n",
    "        TLS201_APPLN.earliest_publn_year != 9999,   \n",
    "        TLS225_DOCDB_FAM_CPC.cpc_class_symbol.in_(top_cpc_classes),  \n",
    "        TLS207_PERS_APPLN.applt_seq_nr != 0,       \n",
    "        TLS206_PERSON.person_ctry_code.isnot(None),  \n",
    "        TLS206_PERSON.person_ctry_code.in_([\n",
    "            \"US\", \"EP\", \"JP\", \"CN\", \"KR\", \"AL\", \"AT\", \"BE\", \"BG\", \"HR\", \"CY\", \n",
    "            \"CZ\", \"DK\", \"EE\", \"FI\", \"FR\", \"DE\", \"GR\", \"HU\", \"IS\", \"IE\", \"IT\", \n",
    "            \"LV\", \"LI\", \"LT\", \"LU\", \"MT\", \"MC\", \"NL\", \"MK\", \"NO\", \"PL\", \"PT\", \n",
    "            \"RO\", \"SM\", \"RS\", \"SK\", \"SI\", \"ES\", \"SE\", \"CH\", \"TR\", \"UK\"\n",
    "        ]),  \n",
    "    )\n",
    "    .order_by(TLS201_APPLN.docdb_family_id)  \n",
    ")\n",
    "\n",
    "\n",
    "ipf_families_df = patstat.df(ipf_families_query)\n",
    "ipf_families_df"
   ]
  },
  {
   "cell_type": "markdown",
   "id": "fd5ce32f-4d7f-4d51-b399-2beec41d1eda",
   "metadata": {},
   "source": [
    "Given the large number of **European Patent Convention (EPC)** contracting countries, we simplify the analysis by grouping all these countries under the unified designation \"**EP**\". These countries are the current contracting parties, and any changes will be updated accordingly. This approach reduces complexity in geographic aggregation while retaining the ability to compare Europe's overall contribution against other major innovation regions, such as the **US**, **JP**, **CN**, and **KR**.\n"
   ]
  },
  {
   "cell_type": "code",
   "execution_count": null,
   "id": "20d6ddb5-df4f-4edd-8d3b-4c1b7e4d872f",
   "metadata": {},
   "outputs": [],
   "source": [
    "epc_country_codes = [\"AL\", \"AT\", \"BE\", \"BG\", \"HR\", \"CY\", \"CZ\", \"DK\", \"EE\", \"FI\", \"FR\", \"DE\", \n",
    "    \"GR\", \"HU\", \"IS\", \"IE\", \"IT\", \"LV\", \"LI\", \"LT\", \"LU\", \"MT\", \"MC\", \"NL\", \n",
    "    \"MK\", \"NO\", \"PL\", \"PT\", \"RO\", \"SM\", \"RS\", \"SK\", \"SI\", \"ES\", \"SE\", \"CH\", \n",
    "    \"TR\", \"UK\"]\n",
    "\n",
    "ipf_families_df[\"person_ctry_code\"] = ipf_families_df[\"person_ctry_code\"].replace(\n",
    "    epc_country_codes, \"EP\"\n",
    ")\n",
    "\n",
    "ipf_families_df = ipf_families_df.sort_values(by=\"docdb_family_id\")\n",
    "ipf_families_df"
   ]
  },
  {
   "cell_type": "markdown",
   "id": "0723ff5e-f85a-4fb9-83d3-779686f2737d",
   "metadata": {},
   "source": [
    "In the initial stages of this analysis, we focused on specific **CPC** groups to identify detailed technological contributions and their applications. This approach provided a granular view of emerging technologies, allowing us to highlight precise areas of innovation. However, to facilitate a more general interpretation and align with the broader goals of the study, we now shift our focus to **CPC subclasses**, represented by the first four characters of the **CPC** codes.\n",
    "\n",
    "By adopting this broader lens, we can better understand which macro-areas are leading global innovation efforts. This shift also enables a clearer comparison of technological trends across regions, providing actionable insights for strategic decision-making. The combination of initial detailed analysis and subsequent generalisation may ensure that the study captures both the micro and macro aspects of technological innovation.\n"
   ]
  },
  {
   "cell_type": "code",
   "execution_count": null,
   "id": "df662603-4cc6-4f6a-8640-3d6080eca576",
   "metadata": {},
   "outputs": [],
   "source": [
    "ipf_families_df['cpc_class_prefix'] = ipf_families_df['cpc_class_symbol'].str[:4]"
   ]
  },
  {
   "cell_type": "markdown",
   "id": "cbcc38cd-25e6-4a56-85fb-5a83b793f015",
   "metadata": {},
   "source": [
    "## Adding labels to the Subclasses"
   ]
  },
  {
   "cell_type": "markdown",
   "id": "eda0e518-793d-402d-a51b-197f367ba5c4",
   "metadata": {},
   "source": [
    "To provide a more comprehensive view of the **CPC** subclasses, we can enrich the data with their corresponding names and labels, which are crucial for interpreting the technological fields represented by these subclasses. By downloading the **CPC Title List** from the official **CPC** website, we can match the subclass codes with their descriptive labels, offering a clearer understanding of the technologies behind each classification.\n",
    "\n",
    "At this stage, we have decided not to focus on the group level, which is very specific to particular technologies, as we aim to maintain a broader perspective. Adding labels from an external website demonstrates what TIP has the potential to do – leveraging external data sources and adding additional layers to those already present in TIP.\n",
    "\n",
    "By incorporating the subclass names and labels into your analysis, you can provide a clearer, more interpretable view of the technological fields under consideration. This step also ensures that you remain flexible with future changes to the CPC system, as the URL and process are designed to adapt to different editions. This enhanced dataset will allow you to better understand and visualise the contribution of various countries and regions in emerging technological areas."
   ]
  },
  {
   "cell_type": "code",
   "execution_count": null,
   "id": "ebdbc540-4c3f-4ca1-941c-51a8ba8819df",
   "metadata": {},
   "outputs": [],
   "source": [
    "prefixes = ipf_families_df['cpc_class_prefix'].unique()\n",
    "prefixes"
   ]
  },
  {
   "cell_type": "code",
   "execution_count": null,
   "id": "0f2bed8f-fe55-409e-b1ec-1569cedbdf96",
   "metadata": {},
   "outputs": [],
   "source": [
    "def openCPCFiles(CPCEdition, prefixes):\n",
    "    \"\"\"\n",
    "    Download and process all text files from the specified CPC ZIP folder.\n",
    "    \n",
    "    Args:\n",
    "        CPCEdition (str): The CPC edition year and month (e.g., '202408').\n",
    "        prefixes (list): A list of CPC class prefixes to filter the lines.\n",
    "    \n",
    "    Returns:\n",
    "        pd.DataFrame: A DataFrame containing rows filtered by the given prefixes.\n",
    "    \"\"\"\n",
    "    # URL of the ZIP file on the CPC website\n",
    "    url = f\"https://www.cooperativepatentclassification.org/sites/default/files/cpc/bulk/CPCTitleList{CPCEdition}.zip\" \n",
    "\n",
    "    # Download ZIP file\n",
    "    response = requests.get(url)\n",
    "    if response.status_code == 200:\n",
    "        # Open ZIP file from response content\n",
    "        with zipfile.ZipFile(io.BytesIO(response.content)) as z:\n",
    "            # Initialize a list to hold data\n",
    "            data = []\n",
    "            # Iterate over all files in the ZIP\n",
    "            for file_name in z.namelist():\n",
    "                # Open and read each text file\n",
    "                with z.open(file_name) as file:\n",
    "                    # Read lines from the file\n",
    "                    lines = file.readlines()\n",
    "                    # Process all lines (no skipping)\n",
    "                    for line in lines:\n",
    "                        decoded_line = line.decode('utf-8').strip()\n",
    "                        # Check if the line starts with any of the prefixes followed by a tab or '/'\n",
    "                        if any(decoded_line.startswith(prefix + \"\\t\") or decoded_line.startswith(prefix + \"/\") for prefix in prefixes):\n",
    "                            data.append({'FileName': file_name, 'LineContent': decoded_line})\n",
    "\n",
    "            # Convert the list to a DataFrame\n",
    "            df = pd.DataFrame(data)\n",
    "            return df\n",
    "    else:\n",
    "        print(f\"Failed to download file: {response.status_code}\")\n",
    "        return None\n",
    "\n",
    "cpc_edition = \"202501\"\n",
    "cpc_data = openCPCFiles(cpc_edition, prefixes)\n",
    "\n",
    "if cpc_data is not None:\n",
    "    print(cpc_data)"
   ]
  },
  {
   "cell_type": "code",
   "execution_count": null,
   "id": "932da925-420c-4d2d-a230-93d93ea1ba6e",
   "metadata": {},
   "outputs": [],
   "source": [
    "def processLineContent(df):\n",
    "    df[['Prefix', 'Label']] = df['LineContent'].str.extract(r'([A-Z0-9/]+)\\s+(.*)', expand=True)\n",
    "    df['Prefix'] = df['Prefix'].apply(lambda x: x[:4])\n",
    "    df['Label'] = df['Label'].str.replace(r'[^\\x00-\\x7F]+', '', regex=True)  \n",
    "\n",
    "    return df\n",
    "    \n",
    "if cpc_data is not None:\n",
    "    cpc_data = processLineContent(cpc_data)\n",
    "    print(cpc_data)"
   ]
  },
  {
   "cell_type": "code",
   "execution_count": null,
   "id": "7233271a-320a-4a70-837e-cf20b6c10205",
   "metadata": {},
   "outputs": [],
   "source": [
    "cpc_data.rename(columns={'Prefix': 'cpc_class_prefix'}, inplace=True)\n",
    "\n",
    "merged_data = pd.merge(ipf_families_df, cpc_data[['cpc_class_prefix', 'Label']], \n",
    "                       on='cpc_class_prefix', \n",
    "                       how='left')\n",
    "\n",
    "merged_data"
   ]
  },
  {
   "cell_type": "markdown",
   "id": "b7336bfa-7c32-4af6-8c58-43d679e21d37",
   "metadata": {},
   "source": [
    "## WIPO - IPC Concordance Table to identify the fields"
   ]
  },
  {
   "cell_type": "markdown",
   "id": "135674c9-7c71-4493-ad25-ee7bbbfb48b3",
   "metadata": {},
   "source": [
    "As mentioned, we want to maintain a broader perspective and focus on larger fields that are innovatively significant, without delving too deeply into the specifics of individual technologies. Dividing the subclasses into broader fields can be done by using external sources such as the WIPO-IPC concordance table. This approach allows us to group related subclasses into wider technological areas, providing a more general overview while still capturing key trends and developments in innovation.\n",
    "\n",
    "The **WIPO IPC Technology Concordance Table** offers a valuable framework for macro-level analysis of technological trends by grouping **IPC** subclasses into broader technology macrofields. This is especially useful for identifying where significant innovation is occurring across various sectors, as it provides a high-level overview of emerging technologies. The **CPC** and **IPC** systems share a similar hierarchical structure, allowing for easy alignment between the two and facilitating comparative analysis. By using the **WIPO IPC Concordance Table**, we can focus on identifying key technological areas where substantial innovation is happening, without being bogged down by the complexity of detailed subclass classifications. By relying on the WIPO IPC Concordance Table, we avoid the challenges of generalising classifications on our own, especially given the complexities involved in determining the specific applications of technologies.\n",
    "\n",
    "The grouping of **IPC** subclasses into macrofields enables a clearer understanding of global innovation dynamics and highlights the broader trends shaping the future of technology. This approach provides a more manageable and interpretable perspective, making it easier to track the development of emerging fields across different sectors. The macrofields help identify where innovation is most concentrated and which technologies are likely to drive future industrial shifts.\n",
    "\n",
    "An important distinction in this context is the **CPC** \"Y\" class, which specifically addresses technologies related to climate change mitigation and adaptation. While the **WIPO IPC Technology Concordance Table** does not include this \"Y\" class, we think it might be crucial to treat these climate-related technologies separately, given their growing importance in global sustainability efforts. By doing so, we ensure that technologies such as clean energy solutions, sustainable practices, and climate resilience are clearly recognised as a unique category, distinct from other technological advancements.\n",
    "\n",
    "Incorporating the **WIPO IPC Technology Concordance Table** into our analysis allows for a structured and strategic overview of global technological trends. It not only enhances our understanding of innovation at a macro level but also ensures that critical fields receive the focused attention they deserve. This approach provides a comprehensive view of the emerging technologies that are shaping the future and positions policymakers and industry leaders to better navigate and respond to these global shifts.\n"
   ]
  },
  {
   "cell_type": "code",
   "execution_count": null,
   "id": "a631769d-ce2d-4f87-8680-a3afadf92e5d",
   "metadata": {},
   "outputs": [],
   "source": [
    "def clean_IPC(x):\n",
    "    x = x.replace(\"/\", \"\").replace(\"%\", \"\").replace(\" \", \"\")\n",
    "    x = x[:4]\n",
    "    return x"
   ]
  },
  {
   "cell_type": "code",
   "execution_count": null,
   "id": "b90d426a-cd35-41f5-bd40-7e32864a1350",
   "metadata": {},
   "outputs": [],
   "source": [
    "url = \"https://www.wipo.int/documents/2948119/3215563/ipc_technology.xlsx\"\n",
    "techno_df = pd.read_excel(\n",
    "    url,\n",
    "    skiprows=6,\n",
    "    usecols=['Field_number', 'Sector_en', 'Field_en', 'IPC_code'],\n",
    "    converters={\"IPC_code\": clean_IPC},\n",
    ")\n",
    "techno_df.columns = ['Field Nb', 'Sector', 'Field', 'IPC']"
   ]
  },
  {
   "cell_type": "code",
   "execution_count": null,
   "id": "01b4979c-1aea-4990-89f0-1edccf37128d",
   "metadata": {},
   "outputs": [],
   "source": [
    "techno_df = (techno_df.groupby([\"Field Nb\", \"Sector\", \"Field\"])[\"IPC\"].agg(\", \".join).reset_index())\n",
    "techno_df"
   ]
  },
  {
   "cell_type": "code",
   "execution_count": null,
   "id": "fbdd15bc-f2f6-4e75-9971-00e6c3d8a0bb",
   "metadata": {},
   "outputs": [],
   "source": [
    "ipc_to_field_mapping = {}\n",
    "for _, row in techno_df.iterrows():\n",
    "    for ipc_code in row['IPC'].split(\", \"):\n",
    "        ipc_to_field_mapping[ipc_code.strip()] = row['Field']\n",
    "\n",
    "def assign_field(cpc_prefix):\n",
    "    if cpc_prefix in ipc_to_field_mapping:\n",
    "        return ipc_to_field_mapping[cpc_prefix]\n",
    "    if cpc_prefix.startswith(\"Y02\"):\n",
    "        return \"Climate change mitigation\"\n",
    "    return \"UNKNOWN\" \n",
    "\n",
    "merged_data[\"Field\"] = merged_data[\"cpc_class_prefix\"].apply(assign_field)\n",
    "merged_data = merged_data[merged_data[\"Field\"] != \"UNKNOWN\"]\n",
    "merged_data"
   ]
  },
  {
   "cell_type": "markdown",
   "id": "4627b6ef-0cbc-4072-a360-608e11fe67d1",
   "metadata": {},
   "source": [
    "With the inventions now grouped into broader macrofields using the **WIPO IPC Technology Concordance Table**, we can analyse the contributions to these fields from applicants originating in the key regions of interest. By examining the distribution of inventions across macrofields and their geographic origins, we gain insights into how different regions are driving innovation in high-priority technological areas.\n",
    "\n",
    "For this analysis, the inventions are grouped by their assigned macrofields and the ``person_ctry_code`` of the applicants, which represents their country of origin. This grouping allows us to quantify the number of inventions attributed to applicants from the five influential regions, **United States (US)**, **Japan (JP)**, **China (CN)**, **South Korea (KR)**, and the **European Patent Convention (EP)** contracting states, within each macrofield.\n"
   ]
  },
  {
   "cell_type": "code",
   "execution_count": null,
   "id": "35329a9b-f56c-4b8a-b028-96ec67d4f77f",
   "metadata": {},
   "outputs": [],
   "source": [
    "cpc_country_analysis = (\n",
    "    merged_data\n",
    "    .groupby(['Field', 'person_ctry_code'])\n",
    "    .agg(unique_families=('docdb_family_id', 'nunique'))  \n",
    "    .reset_index()\n",
    "    .rename(columns={'unique_families': 'invention_count'})  \n",
    "    .sort_values(by='Field', ascending=False)\n",
    ")\n",
    "\n",
    "cpc_country_analysis"
   ]
  },
  {
   "cell_type": "markdown",
   "id": "c2260bdb-71ef-4056-96d3-64c899680aa3",
   "metadata": {},
   "source": [
    "## The contribution of each Country"
   ]
  },
  {
   "cell_type": "markdown",
   "id": "d95158aa-e8a8-4160-9d60-4e3757427539",
   "metadata": {},
   "source": [
    "To better understand the distribution of inventive activity across regions, we calculate the percentage contribution of each country to the total number of inventions within each macrofield. This approach provides a more balanced view of regional influence by contextualising each country’s inventive output relative to the total activity in a given technological field. By examining contributions as percentages, we gain a clearer understanding of how different regions are driving innovation in growing sectors.\n",
    "\n",
    "The analysis begins by determining the total number of inventions within each macrofield, aggregating the invention counts for all contributing regions. This total serves as the basis for calculating the relative contributions of individual countries. Once these totals are established, they are merged back into the dataset to allow for comparison with the specific contributions of each region. For each country, its percentage contribution is derived by dividing its invention count by the total number of inventions in the macrofield. This reveals the proportion of innovation activity attributable to each region, offering insights into their relative influence and participation in these fields.\n",
    "\n",
    "The resulting dataset is sorted to highlight the leading contributors within each macrofield. By organising the data in descending order of percentage contribution, we can identify which countries or regions are most active in driving innovation in specific technological areas. This approach normalises the data, enabling a more meaningful comparison of regional contributions irrespective of their overall size or patenting activity.\n",
    "\n",
    "This percentage-based analysis provides valuable insights into global innovation dynamics. It highlights fields where certain regions demonstrate strong leadership and others where their presence is comparatively limited. For policymakers, understanding these contributions in proportional terms allows for a better assessment of strategic priorities and the identification of sectors where additional investment or collaboration may be needed. Furthermore, this perspective facilitates monitoring of trends over time, particularly in fast-evolving or emerging technologies, providing a clearer understanding of the global innovation landscape."
   ]
  },
  {
   "cell_type": "code",
   "execution_count": null,
   "id": "1686cf08-78e5-4d70-bdef-edbdc451a87b",
   "metadata": {},
   "outputs": [],
   "source": [
    "cpc_class_totals = (\n",
    "    cpc_country_analysis\n",
    "    .groupby('Field', as_index=False)\n",
    "    .agg({'invention_count': 'sum'})\n",
    "    .rename(columns={'invention_count': 'total_count'})\n",
    ")\n",
    "\n",
    "cpc_class_percentage_analysis = cpc_country_analysis.merge(\n",
    "    cpc_class_totals,\n",
    "    on='Field'\n",
    ")\n",
    "\n",
    "cpc_class_percentage_analysis['percentage'] = (\n",
    "    cpc_class_percentage_analysis['invention_count'] /\n",
    "    cpc_class_percentage_analysis['total_count'] * 100\n",
    ")\n",
    "\n",
    "\n",
    "cpc_class_percentage_analysis = cpc_class_percentage_analysis.sort_values(\n",
    "    by=['Field', 'percentage'], ascending=[True, False]\n",
    ")\n",
    "\n",
    "cpc_class_percentage_analysis"
   ]
  },
  {
   "cell_type": "markdown",
   "id": "d87acc74-2e17-4c3b-8a91-e4c65f60ff6d",
   "metadata": {},
   "source": [
    "To identify the technological fields where each region demonstrates leadership, we analysed the percentage contributions of countries to each macrofield. For each field, the country with the highest percentage of unique patent families was identified as the leading contributor in that area. This analysis provided a comprehensive list of macrofields where the **United States (US)**, **China (CN)**, **European Patent Convention countries (EP)**, **Japan (JP)**, and **South Korea (KR)** are the dominant contributors. By isolating the macrofields led by each region, this approach offers valuable insights into their respective areas of technological strength and focus. The results highlight the competitive positioning of these regions in key innovation areas and reflect the diversity in their technological priorities.\n"
   ]
  },
  {
   "cell_type": "code",
   "execution_count": null,
   "id": "606c4463-bb85-440b-a33a-af59833cc4da",
   "metadata": {},
   "outputs": [],
   "source": [
    "leaders_by_field = (\n",
    "    cpc_class_percentage_analysis\n",
    "    .loc[cpc_class_percentage_analysis.groupby('Field')['percentage'].idxmax()]\n",
    ")\n",
    "\n",
    "\n",
    "fields_us_leading = leaders_by_field[leaders_by_field['person_ctry_code'] == 'US']['Field'].tolist()\n",
    "fields_cn_leading = leaders_by_field[leaders_by_field['person_ctry_code'] == 'CN']['Field'].tolist()\n",
    "fields_ep_leading = leaders_by_field[leaders_by_field['person_ctry_code'] == 'EP']['Field'].tolist()\n",
    "fields_jp_leading = leaders_by_field[leaders_by_field['person_ctry_code'] == 'JP']['Field'].tolist()\n",
    "fields_kr_leading = leaders_by_field[leaders_by_field['person_ctry_code'] == 'KR']['Field'].tolist()\n",
    "\n",
    "print(\"Fields where US is leading:\", fields_us_leading)\n",
    "print(\"Fields where CN is leading:\", fields_cn_leading)\n",
    "print(\"Fields where EP is leading:\", fields_ep_leading)\n",
    "print(\"Fields where JP is leading:\", fields_jp_leading)\n",
    "print(\"Fields where KR is leading:\", fields_kr_leading)"
   ]
  },
  {
   "cell_type": "markdown",
   "id": "070ef794-1354-45e8-911e-0dc95ac91842",
   "metadata": {},
   "source": [
    "The analysis of technological leadership across macrofields reveals distinct patterns in regional contributions to innovation. The **United States (US)** emerges as the leading contributor in a wide range of high-impact and emerging fields. These include biotechnology, computer technology, digital communication, medical technology, micro-structural and nano-technology, organic fine chemistry, pharmaceuticals, and other special machines. This breadth underscores the US’s strong presence in both foundational and advanced technological domains, reflecting its sustained investment in R&D and its global leadership in innovation-intensive sectors.\n",
    "\n",
    "In contrast, the analysis does not identify any macrofields where **China (CN)** or **European Patent Convention countries (EP)** are the leading contributors. This absence could point to a more balanced distribution of inventive activity across fields for these regions or may indicate areas where these regions are contributing significantly but not dominating.\n",
    "\n",
    "**Japan (JP)** demonstrates leadership in several specialised technological areas, including electrical machinery, apparatus, and energy, IT methods for management, materials and metallurgy, surface technology and coating, and technologies or applications for mitigation or adaptation against climate change. This highlights Japan’s strength in industrial and environmental technologies, aligning with its longstanding focus on advanced manufacturing and sustainable innovation.\n"
   ]
  },
  {
   "cell_type": "markdown",
   "id": "fe5b6368-2fff-465b-bc88-a2abc3794e5a",
   "metadata": {},
   "source": [
    "### Adding time"
   ]
  },
  {
   "cell_type": "markdown",
   "id": "63ff5401-61fb-48fc-9a7b-c5db69b87d8c",
   "metadata": {},
   "source": [
    "The next step in the analysis focuses on examining the distribution of inventions over time. By analysing the number of unique patent families per year, grouped by macrofield and the applicant's country of origin, we aim to understand the temporal dynamics of innovation. This approach allows us to identify trends in inventive activity across different regions and technological fields, shedding light on whether specific countries are increasing or decreasing their contributions to key areas over the years.\n",
    "\n",
    "For this purpose, we calculate the count of unique patent families (**`docdb_family_id`**) for each combination of macrofield, publication year (**`earliest_publn_year`**), and applicant country (**`person_ctry_code`**). This temporal breakdown highlights the yearly distribution of inventions and provides a detailed view of how technological contributions evolve within and across fields.\n",
    "\n",
    "The resulting dataset is organised by field, publication year, and country to facilitate trend analysis. This temporal perspective helps uncover patterns such as periods of rapid innovation, shifts in regional dominance, or the emergence of new technological priorities in specific macrofields. These insights are critical for understanding the dynamics of global innovation and for identifying potential opportunities for investment or collaboration.\n"
   ]
  },
  {
   "cell_type": "code",
   "execution_count": null,
   "id": "a687bf87-5ddd-44ea-8c88-fb977c2c6dd8",
   "metadata": {},
   "outputs": [],
   "source": [
    "families_by_year_country_field = (\n",
    "    merged_data\n",
    "    .groupby(['Field', 'earliest_publn_year', 'person_ctry_code'], as_index=False)\n",
    "    .agg({'docdb_family_id': 'nunique'})  \n",
    "    .rename(columns={'docdb_family_id': 'unique_family_count'})  \n",
    ")\n",
    "\n",
    "families_by_year_country_field = families_by_year_country_field.sort_values(\n",
    "    by=['Field', 'earliest_publn_year', 'person_ctry_code']\n",
    ")\n",
    "\n",
    "families_by_year_country_field"
   ]
  },
  {
   "cell_type": "code",
   "execution_count": null,
   "id": "b7e79894-81a6-47d6-9b2d-12c872c91742",
   "metadata": {},
   "outputs": [],
   "source": [
    "families_by_year_field = (\n",
    "    families_by_year_country_field\n",
    "    .groupby(['Field', 'earliest_publn_year'], as_index=False)\n",
    "    .agg({'unique_family_count': 'sum'}) \n",
    ")\n",
    "\n",
    "families_by_year_field = families_by_year_field.sort_values(\n",
    "    by=['Field', 'earliest_publn_year']\n",
    ")\n",
    "\n",
    "families_by_year_field"
   ]
  },
  {
   "cell_type": "code",
   "execution_count": null,
   "id": "725f74af-3014-446a-be68-7d0c51bf6cf5",
   "metadata": {},
   "outputs": [],
   "source": [
    "unique_years = merged_data['earliest_publn_year'].unique()\n",
    "print(unique_years)\n"
   ]
  },
  {
   "cell_type": "markdown",
   "id": "1dca089c-2032-4ac7-8912-3306c5bafc0e",
   "metadata": {},
   "source": [
    "## Identification of the _Emerging_ Fields"
   ]
  },
  {
   "cell_type": "markdown",
   "id": "cb3bb57e-b1a5-40ed-bb16-b037903b9f33",
   "metadata": {},
   "source": [
    "Before continuing with this preliminary analysis, we could try applying a definition of emerging fields by identifying them through the growth trend of innovation intensity within the broader technological fields. This would involve focusing on fields that are experiencing rapid development and increasing activity, which can be tracked through patent trends and the volume of new filings. By looking at these trends, we can pinpoint areas that are gaining momentum and might represent emerging sectors in the global innovation landscape. \n",
    "It is important to note that while we have observed a significant number of inventions in the fields we are analysing, this does not necessarily mean they are emerging sectors. These fields are undoubtedly characterised by novelty, as we are focusing on high-value inventions, which are patent families filed across multiple countries. The fact that these inventions are new adds to their transformative potential. They have the capacity to drive substantial change, as they often represent breakthroughs in technology and innovation, with applications that could reshape industries and societies.\n",
    "\n",
    "However, the presence of many inventions in recent years does not automatically qualify these fields as emerging sectors. *Emerging sectors* are typically characterised not only by the volume of innovations but also by their potential for future growth and market disruption. To identify true emerging sectors, we must look at the trends over time. Some sectors may have consistently seen a high volume of inventions, and their dynamism could be more evolutionary rather than revolutionary. Rapid evolution in these sectors may simply reflect the ongoing progression of established technologies rather than the rise of entirely new, transformative areas.\n",
    "\n",
    "In the context of growing sectors, we might observe significant levels of activity due to the continuous evolution of existing technologies. These sectors can exhibit high growth and dynamism, where players’ market shares change drastically, often due to technological advancements or shifts in market demand. Such sectors are not necessarily emerging, but they can still capture a large share of economic growth due to their established nature and ongoing developments.\n",
    "\n",
    "Thus, while we observe high levels of invention activity, we need to carefully assess whether these fields truly represent emerging sectors or whether they are growing sectors with substantial but stable innovation over time. Growing sectors may exhibit high growth and dynamism, but they do not necessarily represent entirely new or disruptive technological frontiers. *Emerging sectors*, on the other hand, often demonstrate a sharper and more accelerated growth trajectory, reflecting the introduction of highly novel and potentially disruptive technologies.\n",
    "\n",
    "Disruptive inventions tend to act as catalysts within their respective fields, sparking a chain reaction of related innovations. This occurs because groundbreaking technologies often uncover previously unexplored opportunities or address fundamental challenges in entirely new ways. These inventions can redefine the parameters of a field, leading to the development of complementary technologies, refinements, and derivative applications. Additionally, the excitement and potential profitability surrounding such innovations attract increased investment, talent, and research efforts, further accelerating invention activity. As a result, emerging sectors not only reflect technological novelty but also signal areas where industries are being fundamentally reshaped.\n"
   ]
  },
  {
   "cell_type": "markdown",
   "id": "0cd76e8b-9396-4ed2-9ad6-80e62a488bec",
   "metadata": {},
   "source": [
    "Analysing the trends in unique patent families across different fields can provide valuable insights into identifying emerging technologies. By visualising the growth trajectories of patenting activity over time, it becomes possible to distinguish fields that exhibit sudden and sharp increases in invention activity from those with more stable or moderate growth patterns. Fields with accelerated growth often signal emerging trends, as they may reflect the impact of disruptive technologies or heightened interest in areas of significant technological novelty.\n",
    "\n",
    "The involvement of multiple countries in such trends further highlights the global competitiveness and strategic importance of these fields. Emerging sectors typically display not only rapid growth but also an increasing concentration of efforts and resources, indicating their potential to redefine industries or create entirely new markets. However, to accurately assess the level of effort and resource allocation in these fields, a more detailed analysis is required. This would involve examining the geographic distribution of inventors, the presence of high-value inventions, and the dynamics of collaboration between key stakeholders in these fields."
   ]
  },
  {
   "cell_type": "code",
   "execution_count": null,
   "id": "a5bb1f82-a98c-44cf-9ee2-382318cb350b",
   "metadata": {},
   "outputs": [],
   "source": [
    "import matplotlib.pyplot as plt\n",
    "import seaborn as sns\n",
    "\n",
    "# Set Seaborn style\n",
    "sns.set(style=\"whitegrid\", palette=\"muted\")\n",
    "\n",
    "fields = families_by_year_country_field['Field'].unique()\n",
    "\n",
    "# Define color scheme\n",
    "epo_red = '#D93317'\n",
    "secondary_colors = {\n",
    "    'CN': '#1D7A73',  # China - Turquoise\n",
    "    'JP': '#013B79',  # Japan - Blue\n",
    "    'KR': '#7F830B',  # South Korea - Lime\n",
    "    'US': '#FF6800',  # US - Orange\n",
    "}\n",
    "\n",
    "\n",
    "# Adjust figure size for multiple fields\n",
    "plt.figure(figsize=(16, 8))\n",
    "\n",
    "for field in fields:\n",
    "    # Create subplots with two axes (left for country breakdown, right for total trend)\n",
    "    fig, (ax1, ax2) = plt.subplots(1, 2, figsize=(16, 6))\n",
    "    \n",
    "    # Filter the data for the current field\n",
    "    field_data_country = families_by_year_country_field[families_by_year_country_field['Field'] == field]\n",
    "    field_data_total = families_by_year_field[families_by_year_field['Field'] == field]\n",
    "    \n",
    "    # Left subplot: trends by country\n",
    "    for country, color in secondary_colors.items():\n",
    "        country_data = field_data_country[field_data_country['person_ctry_code'] == country]\n",
    "        sns.lineplot(\n",
    "            data=country_data,\n",
    "            x='earliest_publn_year',\n",
    "            y='unique_family_count',\n",
    "            label=country,\n",
    "            marker='o',\n",
    "            lw=1,\n",
    "            ax=ax1,\n",
    "            color=color\n",
    "        )\n",
    "    \n",
    "    # Add EP country in EPO Red\n",
    "    ep_data = field_data_country[field_data_country['person_ctry_code'] == 'EP']\n",
    "    sns.lineplot(\n",
    "        data=ep_data,\n",
    "        x='earliest_publn_year',\n",
    "        y='unique_family_count',\n",
    "        label='EP',\n",
    "        marker='o',\n",
    "        lw=1,\n",
    "        ax=ax1,\n",
    "        color=epo_red\n",
    "    )\n",
    "    \n",
    "    # Right subplot: total trend across countries (use grey for total trend)\n",
    "    sns.lineplot(\n",
    "        data=field_data_total,\n",
    "        x='earliest_publn_year',\n",
    "        y='unique_family_count',\n",
    "        marker='o',\n",
    "        color=grey_color,  # Grey color for total trend\n",
    "        lw=1,  # Thinner line for total trend\n",
    "        ax=ax2\n",
    "    )\n",
    "    \n",
    "    # Add a smooth line for the total trend (right plot)\n",
    "    sns.regplot(\n",
    "        data=field_data_total,\n",
    "        x='earliest_publn_year',\n",
    "        y='unique_family_count',\n",
    "        scatter=False,\n",
    "        ax=ax2,\n",
    "        color=grey_color,\n",
    "        line_kws={'color': grey_color, 'lw': 1, 'ls': '--'}  # Thinner dashed grey line\n",
    "    )\n",
    "    \n",
    "    # Titles and labels\n",
    "    ax1.set_title(f'Trends in {field} (By Country)', fontsize=16, fontweight='bold')\n",
    "    ax1.set_xlabel('Publication Year', fontsize=14)\n",
    "    ax1.set_ylabel('Inventions', fontsize=14)\n",
    "    ax1.legend(title='Country', fontsize=12)\n",
    "    ax1.grid(True, linestyle='--', alpha=0.6)\n",
    "    \n",
    "    ax2.set_title(f'Trends in {field} (Total)', fontsize=16, fontweight='bold')\n",
    "    ax2.set_xlabel('Publication Year', fontsize=14)\n",
    "    ax2.set_ylabel('Inventions', fontsize=14)\n",
    "    ax2.grid(True, linestyle='--', alpha=0.6)\n",
    "    \n",
    "    # Customize font size and add annotations for emphasis\n",
    "    for tick in ax1.get_xticklabels():\n",
    "        tick.set_fontsize(12)\n",
    "    for tick in ax1.get_yticklabels():\n",
    "        tick.set_fontsize(12)\n",
    "    \n",
    "    # Adjust layout for better spacing\n",
    "    plt.tight_layout()\n",
    "    \n",
    "    # Show the plot\n",
    "    plt.show()\n"
   ]
  },
  {
   "cell_type": "markdown",
   "id": "ae354700-a527-4425-b071-b28c7deb776d",
   "metadata": {},
   "source": [
    "When analysing the trends across different patent fields, it becomes evident that there are distinct growth patterns, each offering valuable insights into emerging and growing technologies.\n",
    "\n",
    "In the field of **Basic Materials Chemistry**, we observe moderate growth across the countries being analysed, particularly in **KR** and **CN**. However, there is nothing exceptionally rapid in the growth rates for these countries. Looking at the *general trend*, it is clear that there has been a consistent increase in innovations within this field over the years, suggesting a steady but ongoing progression in this area.\n",
    "\n",
    "\n",
    "In contrast, the **Biotechnology** field demonstrates a more pronounced and steep growth trajectory, particularly in the **US**, where innovation activity is markedly higher compared to other countries. The *general trend* shows significant growth, indicating that the **US** is likely leading the charge in this domain, while other regions have not experienced similar growth patterns in this specific field.\n",
    "\n",
    "\n",
    "The **Computer Technology** field shows strong growth starting in **2018** across all countries considered, with the **US** maintaining its leadership position. The **general trend** indicates consistent growth, with a bit more variation in the range of differences between countries. While the **US** leads, other countries are also experiencing growth, but the **US** remains ahead in terms of total innovations.\n",
    "\n",
    "A similar trend can be observed in **Digital Communication**, where **CN** has shown significant progress. Since **2020**, the gap between **CN** and the **US** has narrowed, with the number of inventions in this field becoming nearly identical in both regions. The **general trend** in **Digital Communication** shows consistent growth, especially in **CN**, making it clear that this country is catching up with the **US** in terms of technological advancements.\n",
    "\n",
    "\n",
    "In the field of **Electrical Machinery, Apparatus, and Energy**, growth has been moderate, with **KR** and **CN** standing out as countries that have made significant strides in increasing their patent filings, while other countries have shown more stable growth. The **general growth** is **less steep** compared to the previous fields.\n",
    "\n",
    "For the field of **IT Methods for Management**, we see a general upward trend, albeit with some fluctuations, indicating steady but not extraordinary growth across the countries. Again, the **general trend** is **less rapid and decisive** than the previous fields.\n",
    "\n",
    "The field of **Materials and Metallurgy** exhibits stability, with **JP** emerging as the clear leader in this domain, while other countries remain at much lower levels.\n",
    "In **Medical Technology**, a significant and rapid growth has been evident since 2018, particularly in the **US**, underscoring the increasing global importance of this field.\n",
    "On the other hand, **Microstructural and Nanotechnology** shows an overall decline, although the number of inventions remains significant. This **is particularly visible** in the **general trend**.\n",
    "\n",
    "\n",
    "Fields such as **Organic Fine Chemistry** and **Pharmaceuticals** show stability, while **Other Special Machines** has seen growth that has since stabilised when looking at individual countries. Even though the general trend remains upward, the growth has plateaued.\n",
    "Similarly, **Surface Technology and Coating** also remains steady, and the general trend is **not** growing as rapidly as other fields; in fact, it shows a slight decline.\n",
    "The field of **Technologies or Applications for Mitigation or Adaptation Against Climate Change** has shown stability in the **Europe** area, **JP**, and the **US**, but with **KR** on the rise and **CN** making notable strides since 2018. Indeed, the **general trend** is a clear indicator of increased involvement and innovation activity in this field over the last 10 years.\n",
    "\n",
    "\n",
    "What we can conclude is that *it is very important to take the time factor into account* in order to determine whether the intensity is simply due to the field growing steadily over a long period, or if the interest in innovating within this field is indeed on the rise.\n",
    "\n"
   ]
  },
  {
   "cell_type": "markdown",
   "id": "3b5f59f5-2a2a-4e27-a901-85031681bedf",
   "metadata": {},
   "source": [
    "### Relative Growth over Time"
   ]
  },
  {
   "cell_type": "markdown",
   "id": "fb787e77-444c-4132-bd31-b4d82f60aa60",
   "metadata": {},
   "source": [
    "An alternative approach for identifying emerging fields could be to calculate the relative growth over the entire 10-year period under analysis. This method would offer a broader perspective on long-term trends and might reveal sectors that have demonstrated consistent growth over time. By examining relative growth across all ten years, we could potentially identify fields where innovation is not only increasing but also maintaining a steady momentum.\n",
    "\n",
    "However, this approach comes with both advantages and limitations. On the one hand, it helps highlight fields with sustained growth, which could be indicative of emerging sectors with lasting potential. Such an analysis could complement more recent trends and provide a more comprehensive understanding of long-term innovation patterns.\n",
    "\n",
    "On the other hand, this approach might overlook shorter-term fluctuations or fail to capture emerging fields that exhibit rapid growth over just a few years, but not consistently across the entire period. Additionally, sectors with early-stage innovations might show slower relative growth in the initial years, only to experience a surge later on, which could be missed by focusing on the entire period.\n",
    "\n",
    "Thus, while calculating relative growth over a 10-year period could provide valuable insights, it is important to carefully weigh its benefits against its limitations and consider it as one part of a broader analysis to identify truly emerging sectors.\n"
   ]
  },
  {
   "cell_type": "code",
   "execution_count": null,
   "id": "127fd196-0f2a-4239-a119-713395eeb4e0",
   "metadata": {},
   "outputs": [],
   "source": [
    "aggregated_data = families_by_year_country_field.groupby(['Field', 'earliest_publn_year'])['unique_family_count'].sum().reset_index()\n",
    "\n",
    "fields = aggregated_data['Field'].unique()\n",
    "growth_rates = {}\n",
    "\n",
    "for field in fields:\n",
    "    field_data = aggregated_data[aggregated_data['Field'] == field]\n",
    "    first_year = field_data['earliest_publn_year'].min()\n",
    "    last_year = field_data['earliest_publn_year'].max()\n",
    "    \n",
    "    first_count = field_data[field_data['earliest_publn_year'] == first_year]['unique_family_count'].values[0]\n",
    "    last_count = field_data[field_data['earliest_publn_year'] == last_year]['unique_family_count'].values[0]\n",
    "    \n",
    "    if first_count > 0:\n",
    "        relative_growth = ((last_count - first_count) / first_count) * 100 \n",
    "        growth_rates[field] = relative_growth\n",
    "\n",
    "growth_df = pd.DataFrame(list(growth_rates.items()), columns=['Field', 'Relative Growth (%)'])\n",
    "\n",
    "growth_df = growth_df.sort_values(by='Relative Growth (%)', ascending=False)\n",
    "\n",
    "growth_df\n",
    "\n"
   ]
  },
  {
   "cell_type": "markdown",
   "id": "98ecaeda-e56d-488a-a365-ad17ee27813d",
   "metadata": {},
   "source": [
    "The results reveal that **Medical technology** and **Computer technology** are the sectors with the highest relative growth, showing increases of over 490%, indicating a strong rise in patent activity in these areas. **Other special machines** and **Digital communication** also exhibit significant growth, with percentages of 333% and 193% respectively, highlighting substantial developments in areas such as special machinery and digital communication. However, **Micro-structural and nano-technology** shows a decrease of -46.92%, suggesting a possible maturation or consolidation of technology in this field. These results reflect the evolution of emerging technologies and provide valuable insights into sectors with the highest innovation potential, while other areas may require further investigation to understand the dynamics driving their growth."
   ]
  },
  {
   "cell_type": "code",
   "execution_count": null,
   "id": "8256a7ea-1b2e-48c2-800b-b1c2f5a4503d",
   "metadata": {},
   "outputs": [],
   "source": [
    "plt.figure(figsize=(12, 8))\n",
    "plt.barh(growth_df['Field'], growth_df['Relative Growth (%)'], color='#59D6CC')\n",
    "plt.xlabel('Relative Growth (%) (2013-2022)')\n",
    "plt.ylabel('Field')\n",
    "plt.title('Relative Growth in Unique Patent Families (2013-2022)')\n",
    "plt.gca().invert_yaxis() \n",
    "plt.grid(axis='x', linestyle='--', alpha=0.7)\n",
    "plt.tight_layout()\n",
    "plt.show()"
   ]
  },
  {
   "cell_type": "markdown",
   "id": "87560c79-11d9-4788-b6df-4649bbf889e6",
   "metadata": {},
   "source": [
    "Looking at the relative growth rates, we can see that the sectors **Medical Technology**, **Computer Technology**, and **Digital Communication** all exhibit high growth rates. Interestingly, **Other Special Machines** is also identified as having a high growth rate. While the trend graph for this sector may not appear particularly steep, the fact that it has experienced a consistent and substantial growth over time has led to its identification with a high relative growth rate. This highlights how sustained, steady growth can sometimes be just as significant as rapid increases, particularly when considering long-term trends.\n"
   ]
  },
  {
   "cell_type": "markdown",
   "id": "122a27cb-6daa-41ed-a33f-b2a90e527057",
   "metadata": {},
   "source": [
    "### Compound Annual Growth Rate (CAGR)"
   ]
  },
  {
   "cell_type": "markdown",
   "id": "4cdb4a8f-d39e-400a-8da0-90f0363ae72f",
   "metadata": {},
   "source": [
    "\n",
    "Another approach that could be considered for analysing growth patterns across different fields is the use of the Compound Annual Growth Rate (CAGR). To gain a more nuanced understanding of growth trends, we computed the CAGR for each sector over the 10-year period from 2013 to 2022. The CAGR is a useful metric for analysing the growth of a sector, country, or other parameter over time, as it provides a \"smoothed\" measure of growth. By excluding the effects of short-term fluctuations, it enables a more reliable assessment of the average annual growth rate over the observation period.\n",
    "\n",
    "The calculation process began with aggregating the data by Field and earliest_publn_year, summing the unique family counts for each combination. Next, we calculated the CAGR for each field by comparing the values at the start (2013) and end (2022) of the period, taking into account the number of years in between. This method allows for a clear understanding of both the relative growth rate and the total increase in patent families.\n",
    "\n",
    "The formula used for CAGR is:\n",
    "\n",
    "$$\n",
    "\\text{CAGR} = \\left(\\frac{\\text{Final Count}}{\\text{Initial Count}}\\right)^{\\frac{1}{\\text{Number of Years}}} - 1\n",
    "$$\n",
    "\n",
    "This formula correctly calculates the average annual growth rate for each field over the time period under consideration.\n",
    "\n",
    "\n",
    "To ensure accuracy, we made sure that the initial count was non-zero, which prevents any issues with the calculation. The resulting data was then stored and organised into a DataFrame, sorted by CAGR in descending order. This approach helps highlight the sectors with the highest growth, offering a clearer picture of the areas with the most significant long-term growth trends.\n",
    "\n",
    "While the CAGR method provides a useful long-term growth perspective, it is important to consider the potential limitations of this approach. Specifically, the CAGR is a simplification that does not account for potential fluctuations or variations within the years of the period, which may mask shorter-term trends. As such, while the CAGR highlights sustained growth, it is still valuable to combine this analysis with other methods, such as examining year-to-year changes or more granular data, to provide a more comprehensive understanding of sector dynamics.\n"
   ]
  },
  {
   "cell_type": "code",
   "execution_count": null,
   "id": "cba7c13f-80c3-48d1-ab30-7b077ba30d5b",
   "metadata": {},
   "outputs": [],
   "source": [
    "cagr_list = []\n",
    "\n",
    "for field, group in aggregated_data.groupby('Field'):\n",
    "    group = group.sort_values(by='earliest_publn_year')  \n",
    "    first_count = group.iloc[0]['unique_family_count']   \n",
    "    last_count = group.iloc[-1]['unique_family_count']   \n",
    "    n_years = group['earliest_publn_year'].max() - group['earliest_publn_year'].min()  \n",
    "    \n",
    "    if first_count > 0 and n_years > 0:\n",
    "        cagr = (last_count / first_count) ** (1 / n_years) - 1\n",
    "        cagr_list.append({\n",
    "            'Field': field,\n",
    "            'Initial Year': group['earliest_publn_year'].min(),\n",
    "            'Final Year': group['earliest_publn_year'].max(),\n",
    "            'CAGR (%)': cagr * 100,\n",
    "            'Total Growth': last_count - first_count,\n",
    "            'Initial Count': first_count,\n",
    "            'Final Count': last_count\n",
    "        })\n",
    "\n",
    "cagr_df = pd.DataFrame(cagr_list)\n",
    "cagr_df = cagr_df.sort_values(by='CAGR (%)', ascending=False)\n",
    "print(\"CAGR per Field (Aggregato):\")\n",
    "cagr_df"
   ]
  },
  {
   "cell_type": "code",
   "execution_count": null,
   "id": "de240766-0446-4030-867d-3e2688cd3ad5",
   "metadata": {},
   "outputs": [],
   "source": [
    "plt.figure(figsize=(14, 10))\n",
    "plt.barh(cagr_df['Field'], cagr_df['CAGR (%)'], color='#BEC510')\n",
    "plt.xlabel('CAGR (%)')\n",
    "plt.ylabel('Field')\n",
    "plt.title('CAGR for All Fields (Aggregated by Field, 2013-2022)')\n",
    "plt.gca().invert_yaxis()  \n",
    "plt.grid(axis='x', linestyle='--', alpha=0.7)\n",
    "plt.tight_layout()\n",
    "plt.show()"
   ]
  },
  {
   "cell_type": "markdown",
   "id": "9c6c7a21-2f31-49d3-964a-944cc384227e",
   "metadata": {},
   "source": [
    "Looking at the results of the **Compound Annual Growth Rate (CAGR)** analysis, we can identify several key trends across different fields. **Medical Technology** and **Computer Technology** both exhibit exceptionally high growth, with **CAGR values of 21.99%** and **21.91%** respectively, reflecting substantial increases in patent families over the period from 2013 to 2022. Similarly, **Other Special Machines** shows strong growth at **17.69%**, indicating a consistent rise in activity, despite not having as steep a growth curve as the leading fields. **Digital Communication** follows closely with a **CAGR of 12.71%**, driven primarily by the significant increase in the number of inventions in the sector. \n",
    "\n",
    "Fields such as **Biotechnology** and **IT Methods for Management** also demonstrate solid growth, though at a somewhat slower pace, with **CAGR values of 10.24%** and **9.34%** respectively. On the other hand, **Surface Technology and Coating** and **Basic Materials Chemistry** show moderate growth at **6.67%** and **5.95%**, indicating steady but less rapid advancements.\n",
    "\n",
    "However, there are sectors that have seen more modest growth or even decline. **Electrical Machinery, Apparatus, and Energy** has a **CAGR of 5.60%**, while **Materials and Metallurgy** shows a more limited growth of **5.09%**. **Pharmaceuticals** and **Organic Fine Chemistry** show lower growth rates, at **3.00%** and **1.94%**, with **Organic Fine Chemistry** being the slowest-growing sector. Notably, **Micro-structural and Nano-technology** is the only field to exhibit a negative **CAGR of -6.80%**, reflecting a decline in patenting activity over the past decade.\n",
    "\n",
    "\n",
    "These results reveal varying growth patterns across sectors, with some emerging technologies demonstrating significant increases in innovation intensity, while others show more stable or even declining trends.\n"
   ]
  },
  {
   "cell_type": "markdown",
   "id": "4aeb5df7-520e-4707-9d38-62d6deef4e1e",
   "metadata": {},
   "source": [
    "Connected to the previous approach, we calculated the Compound Annual Growth Rate (CAGR) for each field and country to gain a more detailed understanding of growth trends over the long term. This approach provides a measure of the average annual growth rate, which is particularly useful for comparing growth rates across different sectors and countries while accounting for short-term fluctuations. In this way, we can identify sectors and countries that have experienced sustained and more stable growth over the years, offering a clearer view of innovation areas that may continue to develop in the future."
   ]
  },
  {
   "cell_type": "code",
   "execution_count": null,
   "id": "d448f9db-7f54-458c-8eb3-33ee22944bd8",
   "metadata": {},
   "outputs": [],
   "source": [
    "cagr_list = []\n",
    "\n",
    "for (field, country), group in families_by_year_country_field.groupby(['Field', 'person_ctry_code']):\n",
    "    group = group.sort_values(by='earliest_publn_year')  \n",
    "    first_count = group.iloc[0]['unique_family_count']   \n",
    "    last_count = group.iloc[-1]['unique_family_count']   \n",
    "    n_years = group['earliest_publn_year'].max() - group['earliest_publn_year'].min()  \n",
    "    if first_count > 0 and n_years > 0:\n",
    "        cagr = (last_count / first_count) ** (1 / n_years) - 1\n",
    "        cagr_list.append({\n",
    "            'Field': field,\n",
    "            'Country': country,\n",
    "            'Initial Year': group['earliest_publn_year'].min(),\n",
    "            'Final Year': group['earliest_publn_year'].max(),\n",
    "            'CAGR (%)': cagr * 100\n",
    "        })\n",
    "\n",
    "cagr_df = pd.DataFrame(cagr_list)\n",
    "cagr_df = cagr_df.sort_values(by='CAGR (%)', ascending=False)\n",
    "print(\"CAGR per Field e Paese:\")\n",
    "cagr_df"
   ]
  },
  {
   "cell_type": "code",
   "execution_count": null,
   "id": "0b430ca0-882a-4c18-9e8b-3eb76bb8797f",
   "metadata": {},
   "outputs": [],
   "source": [
    "plt.figure(figsize=(15, 12))\n",
    "plt.barh(\n",
    "    cagr_df['Field'] + \" (\" + cagr_df['Country'] + \")\", \n",
    "    cagr_df['CAGR (%)'], \n",
    "    color='#BEC510'\n",
    ")\n",
    "plt.xlabel('CAGR (%)')\n",
    "plt.ylabel('Field (Country)')\n",
    "plt.title('CAGR for All Fields and Countries (2013-2022)')\n",
    "plt.gca().invert_yaxis()  \n",
    "plt.grid(axis='x', linestyle='--', alpha=0.7)\n",
    "plt.tight_layout()\n",
    "plt.show()"
   ]
  },
  {
   "cell_type": "markdown",
   "id": "733ee743-2e27-4990-bdef-514a065ce74b",
   "metadata": {},
   "source": [
    "When we examine the **Compound Annual Growth Rate (CAGR)** by country, we can identify which nations have experienced the most significant growth across various fields. For instance, **Other Special Machines** shows the highest CAGR of **44.34%**, driven largely by the substantial increase in patenting activity in **China** (**CN**). Similarly, **Medical Technology** has also seen significant growth, with **South Korea** (**KR**) achieving a **CAGR of 40.64%** and **China** (**CN**) at **39.38%**. **Computer Technology** in **China** shows a notable **CAGR of 34.97%**, reflecting the country's dominant role in this sector. Other fields such as **IT Methods for Management** and **Biotechnology** also show strong performance in **China**, with **CAGR values of 33.19%** and **23.37%** respectively.\n",
    "\n",
    "On the other hand, there are fields that have experienced slower growth or even a decline in certain countries. For example, **Micro-structural and Nano-technology** shows a **negative CAGR** across multiple countries, including **Japan** (**JP**), **South Korea** (**KR**), the **United States** (**US**), and **Europe (EP)**, with **South Korea** seeing the largest decline at **-7.71%**.\n",
    "\n",
    "This analysis highlights the strong growth in certain countries, particularly **China**, which has played a significant role in the overall growth of sectors like **Medical Technology**, **Computer Technology**, and **Other Special Machines**. The growth in **Other Special Machines** is especially notable, as the **CAGR is largely driven by China**, reflecting the rapid expansion of manufacturing and industrial sectors in the country.\n"
   ]
  },
  {
   "cell_type": "markdown",
   "id": "e63fa483-38b4-4871-90e5-f7bf2afd82a9",
   "metadata": {},
   "source": [
    "## Conclusion"
   ]
  },
  {
   "cell_type": "markdown",
   "id": "77542ae6-9015-4cae-80fb-0c44bb7df543",
   "metadata": {},
   "source": [
    "\n",
    "In conclusion, our preliminary analysis has shown that there are various ways to identify emerging fields. Looking at sectors with high innovation intensity, it becomes clear that Europe is not leading in any of the identified fields. For instance, when examining the field of Computer Technology, Europe’s contribution is the weakest among the major states, although it remains close to the levels seen in Japan and South Korea. In Digital Communication, the clear leaders are China and the United States, while Europe, on the other hand, is on par with Japan, showing a similar level of contribution. In the field of Medical Technology, European contracting countries rank second, yet the United States remains the undisputed leader in this domain.\n",
    "\n",
    "This highlights the critical need for Europe to enhance its investments in these high-potential areas to ensure it remains competitive globally. While Europe has made strides in emerging sectors, it must ramp up efforts to catch up with the innovation leaders. Identifying and addressing these innovation gaps is essential for shaping Europe’s future R&D strategy and ensuring its leadership in the global innovation landscape. We have explored one approach to begin investigating which fields are emerging fields."
   ]
  },
  {
   "cell_type": "markdown",
   "id": "9a31b189-9bee-414d-a6ba-fc51787080ff",
   "metadata": {},
   "source": [
    "# Global Applicants in Emerging Sectors"
   ]
  },
  {
   "cell_type": "markdown",
   "id": "b8790a91-d8d5-480b-84fc-9826126fd7ed",
   "metadata": {},
   "source": [
    "## Introduction"
   ]
  },
  {
   "cell_type": "markdown",
   "id": "6799492f-56fc-4949-b1e6-4afa72601118",
   "metadata": {},
   "source": [
    "\n",
    "After identifying potential emerging fields, it makes sense to focus on the main applicants in these fields during the period 2013–2022. We will also report on their geographical distribution to better understand where the inventive activities originate. To make the analysis more concise, we have decided to focus on three of the fields previously examined: Computer Technology, Medical Technology, and Digital Communication, where the trends in inventions have shown consistent growth. Additionally, these fields have demonstrated notable relative growth and strong Compound Annual Growth Rates (CAGR), indicating their prominence as emerging sectors."
   ]
  },
  {
   "cell_type": "markdown",
   "id": "9b28ff41-8d33-47ac-b330-4a97e22b4199",
   "metadata": {},
   "source": [
    "We divide the data into different fields because we want to gain insights into each individual field."
   ]
  },
  {
   "cell_type": "code",
   "execution_count": null,
   "id": "787cd8f0-1d83-4fdd-b0fc-7ae00d399c35",
   "metadata": {},
   "outputs": [],
   "source": [
    "computer_technology_data = merged_data[merged_data['Field'] == 'Computer technology']\n",
    "medical_technology_data = merged_data[merged_data['Field'] == 'Medical technology']\n",
    "digital_communication_data = merged_data[merged_data['Field'] == 'Digital communication']"
   ]
  },
  {
   "cell_type": "markdown",
   "id": "872672c2-5092-4b8a-ba2e-9125ae1c93d1",
   "metadata": {},
   "source": [
    "## Top Applicants"
   ]
  },
  {
   "cell_type": "markdown",
   "id": "c40ae5f4-b4da-4675-b3a2-8055fc9088e5",
   "metadata": {},
   "source": [
    "It is particularly interesting to examine the top 25 applicants within the emerging fields, as this allows us to identify the key players driving innovation in these areas. By focusing on these applicants and considering their performance over the entire period, we can gain valuable insights into their contributions, strategies, and the dynamics shaping each field over time."
   ]
  },
  {
   "cell_type": "markdown",
   "id": "68658df5-a11e-4125-b531-55005f871a1c",
   "metadata": {},
   "source": [
    "### Computer Technology"
   ]
  },
  {
   "cell_type": "code",
   "execution_count": null,
   "id": "87194133-725e-4bae-8aac-c35dd15b3b98",
   "metadata": {},
   "outputs": [],
   "source": [
    "name_country_combinations_ct = (\n",
    "    computer_technology_data.groupby(['psn_name', 'person_ctry_code'])['docdb_family_id']\n",
    "    .nunique()\n",
    "    .reset_index(name='count')\n",
    "    .sort_values(by='count', ascending=False)\n",
    ")\n",
    "\n",
    "top_applicants_with_country_ct = (\n",
    "    name_country_combinations_ct\n",
    "    .head(25)\n",
    "    .reset_index(drop=True)\n",
    ")\n",
    "\n",
    "top_applicants_with_country_ct"
   ]
  },
  {
   "cell_type": "code",
   "execution_count": null,
   "id": "ccc3b1fd-39de-41c9-baaa-1b268c9175c6",
   "metadata": {},
   "outputs": [],
   "source": [
    "total_count_ct = name_country_combinations_ct ['count'].sum()\n",
    "\n",
    "top_25_total_count_ct = top_applicants_with_country_ct['count'].sum()\n",
    "\n",
    "top_25_share_ct = (top_25_total_count_ct / total_count_ct) * 100\n",
    "\n",
    "print(f\"The top 25 applicants in Computer Technology contribute {top_25_share_ct:.2f}% of the total.\")\n"
   ]
  },
  {
   "cell_type": "markdown",
   "id": "54c7362f-34f8-4340-ba20-baf6281dfe43",
   "metadata": {},
   "source": [
    "The top 25 applicants together account for 26.26% of all International Patent Families (IPFs) in the **Computer Technology** field. The United States and China are each represented by 7 companies, while Japan is represented by 5, Europe by 4, and South Korea by 2. \n",
    "\n",
    "*Samsung* is the clear leader in **Computer Technology**, with over 5,500 IPFs, corresponding to 18.28% of all inventions in the field between 2013 and 2022. *Samsung*(KR) is followed by *Microsoft* (US) and *Huawei*(CN), which contribute 9.1% and 6.6%, respectively. After them, another South Korean company, *LG Electronics*, and *Google* (US) follow closely.\n"
   ]
  },
  {
   "cell_type": "code",
   "execution_count": null,
   "id": "34bf1775-b50b-48d7-bcd8-54e71942b829",
   "metadata": {},
   "outputs": [],
   "source": [
    "plt.figure(figsize=(28, 10))\n",
    "bars = plt.barh(\n",
    "    top_applicants_with_country_ct[\"psn_name\"] + \" (\" + top_applicants_with_country_ct[\"person_ctry_code\"] + \")\",\n",
    "    top_applicants_with_country_ct[\"count\"],\n",
    "    color=\"#FF8200\"\n",
    ")\n",
    "\n",
    "\n",
    "for bar in bars:\n",
    "    plt.text(\n",
    "        bar.get_width() + 100,  \n",
    "        bar.get_y() + bar.get_height() / 2,  \n",
    "        f\"{int(bar.get_width()):,}\",  \n",
    "        va=\"center\", fontsize=9\n",
    "    )\n",
    "\n",
    "\n",
    "plt.xlabel(\"Number of Applications\", fontsize=12)\n",
    "plt.title(\"Top 25 Applicants in Computer Technology\", fontsize=14)\n",
    "plt.gca().invert_yaxis()  \n",
    "plt.grid(False)\n",
    "plt.tight_layout()"
   ]
  },
  {
   "cell_type": "markdown",
   "id": "aa2d141b-355a-4efd-b2cd-b8933965e625",
   "metadata": {},
   "source": [
    "### Medical Technology"
   ]
  },
  {
   "cell_type": "code",
   "execution_count": null,
   "id": "2cb98e14-9222-4e9a-b673-f041a7270d61",
   "metadata": {},
   "outputs": [],
   "source": [
    "name_country_combinations_mt = (\n",
    "    medical_technology_data.groupby(['psn_name', 'person_ctry_code'])['docdb_family_id']\n",
    "    .nunique()\n",
    "    .reset_index(name='count')\n",
    "    .sort_values(by='count', ascending=False)\n",
    ")\n",
    "\n",
    "top_applicants_with_country_mt = (\n",
    "    name_country_combinations_mt\n",
    "    .head(25)\n",
    "    .reset_index(drop=True)\n",
    ")\n",
    "\n",
    "\n",
    "top_applicants_with_country_mt\n"
   ]
  },
  {
   "cell_type": "code",
   "execution_count": null,
   "id": "ae037aea-2b46-4e70-8cae-220373ca69ac",
   "metadata": {},
   "outputs": [],
   "source": [
    "total_count_mt = name_country_combinations_mt ['count'].sum()\n",
    "\n",
    "top_25_total_count_mt = top_applicants_with_country_mt['count'].sum()\n",
    "\n",
    "top_25_share_mt = (top_25_total_count_mt / total_count_mt) * 100\n",
    "\n",
    "print(f\"The top 25 applicants in Medical Technology contribute {top_25_share_mt:.2f}% of the total.\")\n"
   ]
  },
  {
   "cell_type": "markdown",
   "id": "c79fa2c7-07d8-4496-8b59-3f9ac248dc29",
   "metadata": {},
   "source": [
    "The top 25 applicants in **Medical Technology** account for 16.87% of all inventions in the field. *Philips Electronics* (EP) is the leader, with just over 601 inventions, followed by *Fujifilm* (JP) and *Siemens Healthcare* (EP). The leader contributes 22.3% of the total families in this field, while *Fujifilm* contributes 9% and *Siemens Healthcare* contributes 7%. Notably, 3 companies in the top 5 are European, 10 are Japanese, 8 are American, and 2 are Chinese and South Korean."
   ]
  },
  {
   "cell_type": "code",
   "execution_count": null,
   "id": "d223a5d3-d406-42b2-ba60-2ee2ca8ea57f",
   "metadata": {},
   "outputs": [],
   "source": [
    "plt.figure(figsize=(28, 10))\n",
    "bars = plt.barh(\n",
    "    top_applicants_with_country_mt[\"psn_name\"] + \" (\" + top_applicants_with_country_mt[\"person_ctry_code\"] + \")\",\n",
    "    top_applicants_with_country_mt[\"count\"],\n",
    "    color=\"#0262CA\"\n",
    ")\n",
    "\n",
    "\n",
    "for bar in bars:\n",
    "    plt.text(\n",
    "        bar.get_width() + 10,  \n",
    "        bar.get_y() + bar.get_height() / 2,  \n",
    "        f\"{int(bar.get_width()):,}\",  \n",
    "        va=\"center\", fontsize=9\n",
    "    )\n",
    "\n",
    "\n",
    "plt.xlabel(\"Number of Applications\", fontsize=12)\n",
    "plt.title(\"Top 25 Applicants in Medical Technology\", fontsize=14)\n",
    "plt.gca().invert_yaxis()  \n",
    "plt.grid(False)\n",
    "plt.tight_layout()"
   ]
  },
  {
   "cell_type": "markdown",
   "id": "f459e170-5412-42e6-b30d-e32be3e67269",
   "metadata": {},
   "source": [
    "### Digital Communication"
   ]
  },
  {
   "cell_type": "code",
   "execution_count": null,
   "id": "e966c11e-2257-44c4-b0b7-3090d883a941",
   "metadata": {},
   "outputs": [],
   "source": [
    "name_country_combinations_dc = (\n",
    "    digital_communication_data.groupby(['psn_name', 'person_ctry_code'])['docdb_family_id']\n",
    "    .nunique()\n",
    "    .reset_index(name='count')\n",
    "    .sort_values(by='count', ascending=False)\n",
    ")\n",
    "\n",
    "top_applicants_with_country_dc = (\n",
    "    name_country_combinations_dc\n",
    "    .head(25)\n",
    "    .reset_index(drop=True)\n",
    ")\n",
    "\n",
    "top_applicants_with_country_dc"
   ]
  },
  {
   "cell_type": "code",
   "execution_count": null,
   "id": "f81fd638-a63f-4582-8fed-ac5e7d9beb02",
   "metadata": {},
   "outputs": [],
   "source": [
    "total_count_dc = name_country_combinations_dc ['count'].sum()\n",
    "\n",
    "top_25_total_count_dc = top_applicants_with_country_dc['count'].sum()\n",
    "\n",
    "top_25_share_dc = (top_25_total_count_dc / total_count_dc) * 100\n",
    "\n",
    "print(f\"The top 25 applicants in Digital Communication contribute {top_25_share_dc:.2f}% of the total.\")\n"
   ]
  },
  {
   "cell_type": "markdown",
   "id": "c92a65e3-614b-4ef0-81c2-43597996ed3e",
   "metadata": {},
   "source": [
    "The top 25 applicants in **Digital Communication** account for a significant 44.96% of all inventions in the field. *Qualcomm* stands out as the clear leader with 9,475 inventions, contributing 15.8% of all IPFs in this field. Following closely behind is *Huawei* (CN), contributing 14% of the total inventions, and *LG Electronics* (KR), with 12%. These three companies are dominant players in this sector, making substantial contributions to the development of digital communication technologies. In terms of geographical representation, the top 25 applicants include 8 Chinese companies, 6 Japanese, 4 from the US and South Korea, and 3 European companies.\n",
    "\n"
   ]
  },
  {
   "cell_type": "code",
   "execution_count": null,
   "id": "48718f25-fb39-4e71-ae6a-21af521c0b46",
   "metadata": {},
   "outputs": [],
   "source": [
    "plt.figure(figsize=(24, 10))\n",
    "bars = plt.barh(\n",
    "    top_applicants_with_country_dc[\"psn_name\"] + \" (\" + top_applicants_with_country_dc[\"person_ctry_code\"] + \")\",\n",
    "    top_applicants_with_country_dc[\"count\"],\n",
    "    color=\"#337878\"\n",
    ")\n",
    "\n",
    "\n",
    "for bar in bars:\n",
    "    plt.text(\n",
    "        bar.get_width() + 200,  \n",
    "        bar.get_y() + bar.get_height() / 2,  \n",
    "        f\"{int(bar.get_width()):,}\",  \n",
    "        va=\"center\", fontsize=9\n",
    "    )\n",
    "\n",
    "\n",
    "plt.xlabel(\"Number of Applications\", fontsize=12)\n",
    "plt.title(\"Top 25 Applicants in Digital Communication\", fontsize=14)\n",
    "plt.gca().invert_yaxis()  \n",
    "plt.grid(False)\n",
    "plt.tight_layout()"
   ]
  },
  {
   "cell_type": "markdown",
   "id": "637933bb-e6ea-4a8b-be1a-f3f44bfc6c1d",
   "metadata": {},
   "source": [
    "As can be observed from the charts, the top applicants in each field are remarkably dominant. In the case of **Computer Technology**, the leader, *Samsung*, contributes twice as much as the second applicant, *Microsoft*. Regarding **Medical Technology**, *Philips Electronics* contributes over two times the volume of the second applicant, *Fujifilm*. For **Digital Communication**, the leader, *Qualcomm*, contributes almost the same amount as *Huawei*, which is closely followed by *LG Electronics*. All three are significant contributors to inventions in this field, reflecting their active involvement in driving innovation within **Digital Communication**."
   ]
  },
  {
   "cell_type": "markdown",
   "id": "36b34e78-56fe-4a47-b2c7-1ff7b4e041fe",
   "metadata": {},
   "source": [
    "## Evolution of Top Applicants Over Time"
   ]
  },
  {
   "cell_type": "markdown",
   "id": "a8280698-58ad-4a93-8317-2cab0083e5b7",
   "metadata": {},
   "source": [
    "### Computer Technology"
   ]
  },
  {
   "cell_type": "markdown",
   "id": "805a3a92-a7ce-4a50-90ab-4c182d0d36a9",
   "metadata": {},
   "source": [
    "#### Rationale Behind the Analysis of Top Applicants\n",
    "\n",
    "The analysis of the top applicants over the periods 2013-2017 and 2018-2022 aims to observe the evolution of innovation and the competitive landscape within the **Computer Technology** field. By splitting the data into two time periods, we can identify companies that have consistently led the field, as well as those who have risen or fallen in rank.\n",
    "\n",
    "We begin by filtering the data to include only patent families published between 2013 and 2017 and 2018 and 2022. This allows us to focus on the most relevant inventions during these specific periods.\n",
    "\n",
    "To examine the dynamics between companies, we group the data by the company name and country code, counting the number of patent families for each combination. This gives us insight into which companies were the most active in filing patents during these periods. We then identify the top 25 companies by the number of patent families filed and calculate their share of the total patent families in each period.\n",
    "\n",
    "Next, we merge the two data sets to compare the top 25 companies in both periods and assess their ranking changes. The `ranking_change` function was applied to determine if a company has moved up, down, or remained in the same position in the rankings between 2013-2017 and 2018-2022."
   ]
  },
  {
   "cell_type": "code",
   "execution_count": null,
   "id": "75e44a25-6ccb-4aca-a0f9-169c5c284d46",
   "metadata": {},
   "outputs": [],
   "source": [
    "period_2013_2017_ct = computer_technology_data[\n",
    "    (computer_technology_data['earliest_publn_year'] >= 2013) & \n",
    "    (computer_technology_data['earliest_publn_year'] <= 2017)\n",
    "]\n",
    "\n",
    "period_2018_2022_ct = computer_technology_data[\n",
    "    (computer_technology_data['earliest_publn_year'] >= 2018) & \n",
    "    (computer_technology_data['earliest_publn_year'] <= 2022)\n",
    "]\n",
    "\n",
    "\n",
    "name_country_combinations_2013_2017_ct = (\n",
    "    period_2013_2017_ct.groupby(['psn_name', 'person_ctry_code'])\n",
    "    .size()\n",
    "    .reset_index(name='count')\n",
    "    .sort_values(by='count', ascending=False)\n",
    ")\n",
    "\n",
    "name_country_combinations_2018_2022_ct = (\n",
    "    period_2018_2022_ct.groupby(['psn_name', 'person_ctry_code'])\n",
    "    .size()\n",
    "    .reset_index(name='count')\n",
    "    .sort_values(by='count', ascending=False)\n",
    ")\n",
    "\n",
    "\n",
    "top_25_2013_2017_ct = name_country_combinations_2013_2017_ct.head(25)\n",
    "top_25_2018_2022_ct = name_country_combinations_2018_2022_ct.head(25)\n",
    "top_25_2013_2017_ct = top_25_2013_2017_ct.reset_index(drop=True)\n",
    "top_25_2018_2022_ct = top_25_2018_2022_ct.reset_index(drop=True)\n",
    "total_count_2013_2017_ct = top_25_2013_2017_ct['count'].sum()\n",
    "total_count_2018_2022_ct = top_25_2018_2022_ct['count'].sum()\n",
    "\n",
    "top_25_2013_2017_ct['share'] = (\n",
    "    top_25_2013_2017_ct['count'] / total_count_2013_2017_ct * 100\n",
    ").round(1)\n",
    "top_25_2018_2022_ct['share'] = (\n",
    "    top_25_2018_2022_ct['count'] / total_count_2018_2022_ct * 100\n",
    ").round(1)\n",
    "\n",
    "merged_top_25_ct = pd.merge(\n",
    "    top_25_2013_2017_ct,\n",
    "    top_25_2018_2022_ct,\n",
    "    left_index=True,\n",
    "    right_index=True,\n",
    "    suffixes=('_2013_2017', '_2018_2022')\n",
    ")\n",
    "\n",
    "merged_top_25_ct\n",
    "\n",
    "\n",
    "merged_top_25_ct = merged_top_25_ct.rename(\n",
    "    columns={\n",
    "        'psn_name_2013_2017': 'company_2013_2017',\n",
    "        'psn_name_2018_2022': 'company_2018_2022'\n",
    "    }\n",
    ")\n",
    "\n",
    "merged_top_25_ct['company_2013_2017'] = (\n",
    "    merged_top_25_ct['company_2013_2017'] + \" (\" + merged_top_25_ct['person_ctry_code_2013_2017'] + \")\"\n",
    ")\n",
    "merged_top_25_ct['company_2018_2022'] = (\n",
    "    merged_top_25_ct['company_2018_2022'] + \" (\" + merged_top_25_ct['person_ctry_code_2018_2022'] + \")\"\n",
    ")\n",
    "\n",
    "merged_top_25_ct = merged_top_25_ct.drop(columns=['count_2013_2017', 'count_2018_2022','person_ctry_code_2013_2017', 'person_ctry_code_2018_2022'])\n",
    "\n",
    "ranking_2018_2022_ct = {\n",
    "    name: rank for rank, name in enumerate(merged_top_25_ct['company_2018_2022'], start=1)\n",
    "}\n",
    "ranking_2013_2017_ct = {\n",
    "    name: rank for rank, name in enumerate(merged_top_25_ct['company_2013_2017'], start=1)\n",
    "}\n",
    "\n",
    "def ranking_change(row):\n",
    "    company_2018_2022 = row['company_2018_2022']\n",
    "    company_2013_2017 = row['company_2013_2017']\n",
    "\n",
    "  \n",
    "    rank_2013_2017 = ranking_2013_2017_ct.get(company_2018_2022, None)\n",
    "    rank_2018_2022 = ranking_2018_2022_ct.get(company_2018_2022, None)\n",
    "\n",
    "    if rank_2013_2017 is None:\n",
    "        return '+'\n",
    "    elif rank_2013_2017 == rank_2018_2022:\n",
    "        return '='\n",
    "    elif rank_2013_2017 > rank_2018_2022:\n",
    "        return '+'\n",
    "    else:\n",
    "        return '-'\n",
    "\n",
    "merged_top_25_ct['ranking_change'] = merged_top_25_ct.apply(ranking_change, axis=1)\n",
    "merged_top_25_ct"
   ]
  },
  {
   "cell_type": "markdown",
   "id": "7e48d541-a32e-40fe-89d7-f75c0988d382",
   "metadata": {},
   "source": [
    "#### Observations from the Results\n",
    "\n",
    "From the resulting table, we can observe the following trends in the **Computer Technology** field:\n",
    "\n",
    "- **Samsung Electronics (KR)** remains the dominant player in both periods, although its share slightly decreases from 26.3% in 2013-2017 to 18.3% in 2018-2022.\n",
    "- Other top companies, such as **Microsoft Technology Licensing (US)**, **Apple (US)**, and **LG Electronics (KR)**, have experienced some ranking changes. For example, **Apple** has moved up in rank, whereas **Microsoft** has slightly dropped.\n",
    "- The **share** of top companies has shifted, with **Samsung** still holding the largest share but with increasing competition from companies like **Huawei**, **Google**, and **Microsoft**.\n",
    "\n",
    "Notably, the table also highlights the emerging players, such as **Tencent Technology (CN)** and **Beijing Baidu Netcom Science and Technology Co. (CN)**, which have gained significant ground between the two periods.\n",
    "\n",
    "This analysis offers a glimpse into the dynamics of the **Computer Technology** field, showing which companies are maintaining their competitive edge and which ones are climbing the ranks or losing ground in terms of innovation.\n"
   ]
  },
  {
   "cell_type": "markdown",
   "id": "320c7891-e38a-406b-8056-8d7e553fc2a0",
   "metadata": {},
   "source": [
    "### Medical Technology"
   ]
  },
  {
   "cell_type": "markdown",
   "id": "f0b928b3-9393-497e-93ce-ed96cec7930c",
   "metadata": {},
   "source": [
    "We begin by filtering the data to include patent families published between 2013 and 2017 and between 2018 and 2022. This allows us to focus on the relevant inventions in these specific periods. The data is grouped by **company name** and **country code** to identify the most active companies in both periods.\n",
    "\n",
    "For each period, we calculate the total number of patents filed by the top 25 companies and their corresponding market share. We then merge the data from both periods to compare the top 25 companies from 2013-2017 with those from 2018-2022.\n",
    "\n",
    "The `ranking_change` function is applied to determine the change in rankings between the two periods. This function helps identify whether a company has moved up (+), moved down (-), or remained in the same position (=) over time."
   ]
  },
  {
   "cell_type": "code",
   "execution_count": null,
   "id": "91492846-34e5-4002-9d2a-d63045092b8a",
   "metadata": {},
   "outputs": [],
   "source": [
    "period_2013_2017_mt = medical_technology_data[\n",
    "    (medical_technology_data['earliest_publn_year'] >= 2013) & \n",
    "    (medical_technology_data['earliest_publn_year'] <= 2017)\n",
    "]\n",
    "\n",
    "period_2018_2022_mt = medical_technology_data[\n",
    "    (medical_technology_data['earliest_publn_year'] >= 2018) & \n",
    "    (medical_technology_data['earliest_publn_year'] <= 2022)\n",
    "]\n",
    "\n",
    "\n",
    "name_country_combinations_2013_2017_mt = (\n",
    "    period_2013_2017_mt.groupby(['psn_name', 'person_ctry_code'])\n",
    "    .size()\n",
    "    .reset_index(name='count')\n",
    "    .sort_values(by='count', ascending=False)\n",
    ")\n",
    "\n",
    "name_country_combinations_2018_2022_mt = (\n",
    "    period_2018_2022_mt.groupby(['psn_name', 'person_ctry_code'])\n",
    "    .size()\n",
    "    .reset_index(name='count')\n",
    "    .sort_values(by='count', ascending=False)\n",
    ")\n",
    "\n",
    "\n",
    "top_25_2013_2017_mt = name_country_combinations_2013_2017_mt.head(25)\n",
    "top_25_2018_2022_mt = name_country_combinations_2018_2022_mt.head(25)\n",
    "top_25_2013_2017_mt = top_25_2013_2017_mt.reset_index(drop=True)\n",
    "top_25_2018_2022_mt = top_25_2018_2022_mt.reset_index(drop=True)\n",
    "\n",
    "total_count_2013_2017_mt = top_25_2013_2017_mt['count'].sum()\n",
    "total_count_2018_2022_mt = top_25_2018_2022_mt['count'].sum()\n",
    "\n",
    "top_25_2013_2017_mt['share'] = (\n",
    "    top_25_2013_2017_mt['count'] / total_count_2013_2017_mt * 100\n",
    ").round(1)\n",
    "top_25_2018_2022_mt['share'] = (\n",
    "    top_25_2018_2022_mt['count'] / total_count_2018_2022_mt * 100\n",
    ").round(1)\n",
    "\n",
    "merged_top_25_mt = pd.merge(\n",
    "    top_25_2013_2017_mt,\n",
    "    top_25_2018_2022_mt,\n",
    "    left_index=True,\n",
    "    right_index=True,\n",
    "    suffixes=('_2013_2017', '_2018_2022')\n",
    ")\n",
    "\n",
    "\n",
    "\n",
    "\n",
    "merged_top_25_mt = merged_top_25_mt.rename(\n",
    "    columns={\n",
    "        'psn_name_2013_2017': 'company_2013_2017',\n",
    "        'psn_name_2018_2022': 'company_2018_2022'\n",
    "    }\n",
    ")\n",
    "\n",
    "merged_top_25_mt['company_2013_2017'] = (\n",
    "    merged_top_25_mt['company_2013_2017'] + \" (\" + merged_top_25_mt['person_ctry_code_2013_2017'] + \")\"\n",
    ")\n",
    "merged_top_25_mt['company_2018_2022'] = (\n",
    "    merged_top_25_mt['company_2018_2022'] + \" (\" + merged_top_25_mt['person_ctry_code_2018_2022'] + \")\"\n",
    ")\n",
    "\n",
    "merged_top_25_mt = merged_top_25_mt.drop(columns=['count_2013_2017', 'count_2018_2022','person_ctry_code_2013_2017', 'person_ctry_code_2018_2022'])\n",
    "\n",
    "ranking_2018_2022_mt = {\n",
    "    name: rank for rank, name in enumerate(merged_top_25_mt['company_2018_2022'], start=1)\n",
    "}\n",
    "ranking_2013_2017_mt = {\n",
    "    name: rank for rank, name in enumerate(merged_top_25_mt['company_2013_2017'], start=1)\n",
    "}\n",
    "\n",
    "def ranking_change(row):\n",
    "    company_2018_2022 = row['company_2018_2022']\n",
    "    company_2013_2017 = row['company_2013_2017']\n",
    "\n",
    "  \n",
    "    rank_2013_2017 = ranking_2013_2017_mt.get(company_2018_2022, None)\n",
    "    rank_2018_2022 = ranking_2018_2022_mt.get(company_2018_2022, None)\n",
    "\n",
    "    if rank_2013_2017 is None:\n",
    "        return '+'\n",
    "    elif rank_2013_2017 == rank_2018_2022:\n",
    "        return '='\n",
    "    elif rank_2013_2017 > rank_2018_2022:\n",
    "        return '+'\n",
    "    else:\n",
    "        return '-'\n",
    "\n",
    "merged_top_25_mt['ranking_change'] = merged_top_25_mt.apply(ranking_change, axis=1)\n",
    "\n",
    "merged_top_25_mt\n"
   ]
  },
  {
   "cell_type": "markdown",
   "id": "876bf808-e5ef-45e5-958a-f3846365f0a7",
   "metadata": {},
   "source": [
    "#### Observations from the Results\n",
    "\n",
    "From the resulting table, we can observe several key trends in the **Medical Technology** field:\n",
    "\n",
    "- **Philips Electronics (EP)** maintains a dominant position in both periods, although its share slightly decreases from 26.2% in 2013-2017 to 22.8% in 2018-2022, showing a slight decline in patent filings.\n",
    "- **Samsung Electronics (KR)**, initially ranked second in 2013-2017, falls to fourth place in 2018-2022. However, its share still increases from 10.2% to 18.3%, indicating a significant rise in its patent activity.\n",
    "- **Fujifilm (JP)** sees a significant rise in rank, moving from 10th place in 2013-2017 to second place in 2018-2022, reflecting an increase in their market share from 2.6% to 6.4%.\n",
    "- **HeartFlow (US)**, **Siemens Healthcare (EP)**, and **Roche (EP)** are among the companies that have seen an increase in their ranking, indicating growing innovation in medical technology during the 2018-2022 period.\n",
    "- Notably, **Medtronic (US)**, **GE (General Electric Company) (US)**, and **Canon (JP)** have seen small shifts, but they remain prominent players in the field.\n",
    "\n",
    "The ranking changes also highlight the emergence of companies like **People.AI (US)** and **Paige.AI (US)**, which indicate new players contributing to innovations in medical technology.\n",
    "\n",
    "Overall, this analysis showcases the shifting dynamics in the medical technology sector, with established companies retaining leadership while others are rising to prominence."
   ]
  },
  {
   "cell_type": "markdown",
   "id": "e7546329-81d2-4017-927d-834207acc787",
   "metadata": {},
   "source": [
    "### Digital Communication"
   ]
  },
  {
   "cell_type": "markdown",
   "id": "d69781b8-76c4-44bf-97a9-d561e115026c",
   "metadata": {},
   "source": [
    "We begin by filtering the data to include patent families published between 2013 and 2017 and between 2018 and 2022. This allows us to focus on patents relevant to each period. The data is grouped by **company name** and **country code** to highlight the most active companies in each period.\n",
    "\n",
    "For each period, we calculate the total number of patents filed by the top 25 companies and their corresponding market share. We then merge the data from both periods to compare the top 25 companies from 2013-2017 with those from 2018-2022.\n",
    "\n",
    "The `ranking_change` function is applied to determine how each company's rank has shifted between the two periods. This function helps us identify whether a company has moved up (+), moved down (-), or remained in the same position (=) over time.\n"
   ]
  },
  {
   "cell_type": "code",
   "execution_count": null,
   "id": "80a73eaf-9db0-46d9-8a44-f26a55c79c05",
   "metadata": {},
   "outputs": [],
   "source": [
    "period_2013_2017_dc = digital_communication_data[\n",
    "    (digital_communication_data['earliest_publn_year'] >= 2013) & \n",
    "    (digital_communication_data['earliest_publn_year'] <= 2017)\n",
    "]\n",
    "\n",
    "period_2018_2022_dc = digital_communication_data[\n",
    "    (digital_communication_data['earliest_publn_year'] >= 2018) & \n",
    "    (digital_communication_data['earliest_publn_year'] <= 2022)\n",
    "]\n",
    "\n",
    "\n",
    "name_country_combinations_2013_2017_dc = (\n",
    "    period_2013_2017_dc.groupby(['psn_name', 'person_ctry_code'])\n",
    "    .size()\n",
    "    .reset_index(name='count')\n",
    "    .sort_values(by='count', ascending=False)\n",
    ")\n",
    "\n",
    "name_country_combinations_2018_2022_dc = (\n",
    "    period_2018_2022_dc.groupby(['psn_name', 'person_ctry_code'])\n",
    "    .size()\n",
    "    .reset_index(name='count')\n",
    "    .sort_values(by='count', ascending=False)\n",
    ")\n",
    "\n",
    "\n",
    "top_25_2013_2017_dc = name_country_combinations_2013_2017_dc.head(25)\n",
    "top_25_2018_2022_dc = name_country_combinations_2018_2022_dc.head(25)\n",
    "top_25_2013_2017_dc = top_25_2013_2017_dc.reset_index(drop=True)\n",
    "top_25_2018_2022_dc = top_25_2018_2022_dc.reset_index(drop=True)\n",
    "\n",
    "total_count_2013_2017_dc = top_25_2013_2017_dc['count'].sum()\n",
    "total_count_2018_2022_dc = top_25_2018_2022_dc['count'].sum()\n",
    "\n",
    "top_25_2013_2017_dc['share'] = (\n",
    "    top_25_2013_2017_dc['count'] / total_count_2013_2017_dc * 100\n",
    ").round(1)\n",
    "top_25_2018_2022_dc['share'] = (\n",
    "    top_25_2018_2022_dc['count'] / total_count_2018_2022_dc * 100\n",
    ").round(1)\n",
    "\n",
    "merged_top_25_dc = pd.merge(\n",
    "    top_25_2013_2017_dc,\n",
    "    top_25_2018_2022_dc,\n",
    "    left_index=True,\n",
    "    right_index=True,\n",
    "    suffixes=('_2013_2017', '_2018_2022')\n",
    ")\n",
    "\n",
    "\n",
    "\n",
    "\n",
    "merged_top_25_dc = merged_top_25_dc.rename(\n",
    "    columns={\n",
    "        'psn_name_2013_2017': 'company_2013_2017',\n",
    "        'psn_name_2018_2022': 'company_2018_2022'\n",
    "    }\n",
    ")\n",
    "\n",
    "merged_top_25_dc['company_2013_2017'] = (\n",
    "    merged_top_25_dc['company_2013_2017'] + \" (\" + merged_top_25_dc['person_ctry_code_2013_2017'] + \")\"\n",
    ")\n",
    "merged_top_25_dc['company_2018_2022'] = (\n",
    "    merged_top_25_dc['company_2018_2022'] + \" (\" + merged_top_25_dc['person_ctry_code_2018_2022'] + \")\"\n",
    ")\n",
    "\n",
    "merged_top_25_dc = merged_top_25_dc.drop(columns=['count_2013_2017', 'count_2018_2022','person_ctry_code_2013_2017', 'person_ctry_code_2018_2022'])\n",
    "\n",
    "ranking_2018_2022_dc = {\n",
    "    name: rank for rank, name in enumerate(merged_top_25_dc['company_2018_2022'], start=1)\n",
    "}\n",
    "ranking_2013_2017_dc = {\n",
    "    name: rank for rank, name in enumerate(merged_top_25_dc['company_2013_2017'], start=1)\n",
    "}\n",
    "\n",
    "def ranking_change(row):\n",
    "    company_2018_2022 = row['company_2018_2022']\n",
    "    company_2013_2017 = row['company_2013_2017']\n",
    "\n",
    "  \n",
    "    rank_2013_2017 = ranking_2013_2017_dc.get(company_2018_2022, None)\n",
    "    rank_2018_2022 = ranking_2018_2022_dc.get(company_2018_2022, None)\n",
    "\n",
    "    if rank_2013_2017 is None:\n",
    "        return '+'\n",
    "    elif rank_2013_2017 == rank_2018_2022:\n",
    "        return '='\n",
    "    elif rank_2013_2017 > rank_2018_2022:\n",
    "        return '+'\n",
    "    else:\n",
    "        return '-'\n",
    "\n",
    "merged_top_25_dc['ranking_change'] = merged_top_25_dc.apply(ranking_change, axis=1)\n",
    "\n",
    "merged_top_25_dc"
   ]
  },
  {
   "cell_type": "markdown",
   "id": "507ede68-38fa-412c-b6ec-ca241d8a74b3",
   "metadata": {},
   "source": [
    "#### Observations from the Results\n",
    "\n",
    "From the resulting table, we can observe several key trends in the **Digital Communication** field:\n",
    "\n",
    "- **QUALCOMM (US)** retains its position as the leading company in both periods, with a slight increase in its market share from 19.6% in 2013-2017 to 20.0% in 2018-2022, indicating steady innovation in digital communication technologies.\n",
    "- **LG Electronics (KR)**, ranked second in 2013-2017, drops to fourth place in 2018-2022. Despite this, its share remains strong at 13.3% in the earlier period and 9.7% in the latter, showing consistent activity.\n",
    "- **SAMSUNG ELECTRONICS (KR)** maintains a significant presence, though it drops from third to fourth place, with a slight decrease in share from 12.3% to 8.8%.\n",
    "- **HUAWEI TECHNOLOGIES (CN)**, previously ranked fifth in 2013-2017, climbs to second place in 2018-2022, reflecting an increase in its share from 7.3% to 13.6%.\n",
    "- **ZTE CORPORATION (CN)** sees an increase in its rank and share, moving up from 8th to 6th place, with a rise in share from 2.3% to 3.1%.\n",
    "- **BYTEDANCE (US)**, a relatively newer player, enters the top 10 in 2018-2022, marking a notable rise in innovation in the digital communication space.\n",
    "\n",
    "The ranking changes also indicate the increasing influence of companies from China, such as **Huawei** and **ZTE**, which have gained ground over the period. Established players like **Sony**, **Intel**, and **Panasonic** have seen minor shifts, but they remain central to the digital communication landscape.\n",
    "\n",
    "This analysis highlights the growing presence of Chinese companies, as well as the continued strength of key players from the US, Japan, and Europe, showcasing the competitive and dynamic nature of the digital communication sector.\n",
    "\n",
    "\n",
    "\n",
    "\n",
    "\n"
   ]
  }
 ],
 "metadata": {
  "kernelspec": {
   "display_name": "Python 3 (ipykernel)",
   "language": "python",
   "name": "python3"
  },
  "language_info": {
   "codemirror_mode": {
    "name": "ipython",
    "version": 3
   },
   "file_extension": ".py",
   "mimetype": "text/x-python",
   "name": "python",
   "nbconvert_exporter": "python",
   "pygments_lexer": "ipython3",
   "version": "3.11.10"
  }
 },
 "nbformat": 4,
 "nbformat_minor": 5
}
